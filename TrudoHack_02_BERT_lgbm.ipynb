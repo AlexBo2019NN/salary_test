{
  "nbformat": 4,
  "nbformat_minor": 0,
  "metadata": {
    "colab": {
      "name": "TrudoHack_02_BERT_lgbm.ipynb",
      "provenance": [],
      "collapsed_sections": [],
      "machine_shape": "hm"
    },
    "kernelspec": {
      "name": "python3",
      "display_name": "Python 3"
    },
    "accelerator": "GPU"
  },
  "cells": [
    {
      "cell_type": "code",
      "metadata": {
        "id": "BdtoP3KRw2NY",
        "colab_type": "code",
        "colab": {}
      },
      "source": [
        "import pandas as pd  #for dataframes\n",
        "import numpy as np\n",
        "from tqdm.notebook import tqdm  #to visualize execution\n",
        "from sklearn.model_selection import train_test_split   #to divide dataset in train and test\n",
        "from sklearn.feature_extraction.text import TfidfVectorizer  #to vectorize txt\n",
        "from sklearn.pipeline import Pipeline  #to make pipeline\n",
        "from sklearn.metrics import mean_absolute_error  #for metric of our model\n",
        "import pickle  #for saving models\n",
        "import re  #for regular expression\n",
        "from lightgbm import LGBMRegressor\n",
        "from sklearn.preprocessing import LabelEncoder\n",
        "from sklearn.ensemble import RandomForestRegressor  #algo for regression\n",
        "RS=42  #we will fix random state"
      ],
      "execution_count": null,
      "outputs": []
    },
    {
      "cell_type": "code",
      "metadata": {
        "id": "PV-_JrPlZSpK",
        "colab_type": "code",
        "colab": {
          "base_uri": "https://localhost:8080/",
          "height": 121
        },
        "outputId": "50daa07c-2d7d-451b-ecc1-1efb893181d7"
      },
      "source": [
        "# подключаем гугл диск на котором данные\n",
        "from google.colab import drive\n",
        "drive.mount ('/content/gdrive', force_remount = True)"
      ],
      "execution_count": null,
      "outputs": [
        {
          "output_type": "stream",
          "text": [
            "Go to this URL in a browser: https://accounts.google.com/o/oauth2/auth?client_id=947318989803-6bn6qk8qdgf4n4g3pfee6491hc0brc4i.apps.googleusercontent.com&redirect_uri=urn%3aietf%3awg%3aoauth%3a2.0%3aoob&response_type=code&scope=email%20https%3a%2f%2fwww.googleapis.com%2fauth%2fdocs.test%20https%3a%2f%2fwww.googleapis.com%2fauth%2fdrive%20https%3a%2f%2fwww.googleapis.com%2fauth%2fdrive.photos.readonly%20https%3a%2f%2fwww.googleapis.com%2fauth%2fpeopleapi.readonly\n",
            "\n",
            "Enter your authorization code:\n",
            "··········\n",
            "Mounted at /content/gdrive\n"
          ],
          "name": "stdout"
        }
      ]
    },
    {
      "cell_type": "code",
      "metadata": {
        "id": "DgoGyg4UZUr9",
        "colab_type": "code",
        "colab": {
          "base_uri": "https://localhost:8080/",
          "height": 50
        },
        "outputId": "cac49f91-a7fc-4430-83b0-bdc8ce84bfe4"
      },
      "source": [
        "!ls /content/gdrive/'My Drive'/dataset_trud/"
      ],
      "execution_count": null,
      "outputs": [
        {
          "output_type": "stream",
          "text": [
            "model_trud01.pickle  model_trud05_cb.pickle\t\tvacs_train.csv\n",
            "model_trud02.pickle  tokenize_text_simple_regex.pickle\tописание-2.xlsx\n"
          ],
          "name": "stdout"
        }
      ]
    },
    {
      "cell_type": "code",
      "metadata": {
        "id": "2qQds26iRuNM",
        "colab_type": "code",
        "colab": {
          "base_uri": "https://localhost:8080/",
          "height": 1000
        },
        "outputId": "4e5a7bb1-af85-4dbf-bbe9-6212b45ea275"
      },
      "source": [
        "df_salaries100k = pd.read_csv('../content/gdrive/My Drive/dataset_trud/vacs_train.csv',index_col='index',sep=';')\n",
        "df_salaries100k.head(20)\n"
      ],
      "execution_count": null,
      "outputs": [
        {
          "output_type": "execute_result",
          "data": {
            "text/html": [
              "<div>\n",
              "<style scoped>\n",
              "    .dataframe tbody tr th:only-of-type {\n",
              "        vertical-align: middle;\n",
              "    }\n",
              "\n",
              "    .dataframe tbody tr th {\n",
              "        vertical-align: top;\n",
              "    }\n",
              "\n",
              "    .dataframe thead th {\n",
              "        text-align: right;\n",
              "    }\n",
              "</style>\n",
              "<table border=\"1\" class=\"dataframe\">\n",
              "  <thead>\n",
              "    <tr style=\"text-align: right;\">\n",
              "      <th></th>\n",
              "      <th>id</th>\n",
              "      <th>name</th>\n",
              "      <th>name.lemm</th>\n",
              "      <th>area.name</th>\n",
              "      <th>city</th>\n",
              "      <th>company.id</th>\n",
              "      <th>company</th>\n",
              "      <th>company_link</th>\n",
              "      <th>publication_date</th>\n",
              "      <th>salary_from</th>\n",
              "      <th>salary_currency</th>\n",
              "      <th>employment</th>\n",
              "      <th>employment.name</th>\n",
              "      <th>schedule</th>\n",
              "      <th>schedule.name</th>\n",
              "      <th>experience</th>\n",
              "      <th>experience.name</th>\n",
              "      <th>key_skills</th>\n",
              "      <th>specializations</th>\n",
              "      <th>specializations.names</th>\n",
              "      <th>description</th>\n",
              "      <th>description.lemm</th>\n",
              "      <th>type</th>\n",
              "    </tr>\n",
              "    <tr>\n",
              "      <th>index</th>\n",
              "      <th></th>\n",
              "      <th></th>\n",
              "      <th></th>\n",
              "      <th></th>\n",
              "      <th></th>\n",
              "      <th></th>\n",
              "      <th></th>\n",
              "      <th></th>\n",
              "      <th></th>\n",
              "      <th></th>\n",
              "      <th></th>\n",
              "      <th></th>\n",
              "      <th></th>\n",
              "      <th></th>\n",
              "      <th></th>\n",
              "      <th></th>\n",
              "      <th></th>\n",
              "      <th></th>\n",
              "      <th></th>\n",
              "      <th></th>\n",
              "      <th></th>\n",
              "      <th></th>\n",
              "      <th></th>\n",
              "    </tr>\n",
              "  </thead>\n",
              "  <tbody>\n",
              "    <tr>\n",
              "      <th>0</th>\n",
              "      <td>17686451</td>\n",
              "      <td>Менеджер по туризму</td>\n",
              "      <td>менеджер туризм</td>\n",
              "      <td>Санкт-Петербург</td>\n",
              "      <td>Санкт-Петербург</td>\n",
              "      <td>605490</td>\n",
              "      <td>007, центр услуг</td>\n",
              "      <td>https://hh.ru/employer/605490</td>\n",
              "      <td>2016-08-21T14:52:35+0300</td>\n",
              "      <td>40000.0</td>\n",
              "      <td>RUR</td>\n",
              "      <td>full</td>\n",
              "      <td>Полная занятость</td>\n",
              "      <td>fullDay</td>\n",
              "      <td>Полный день</td>\n",
              "      <td>between1And3</td>\n",
              "      <td>От 1 года до 3 лет</td>\n",
              "      <td>NaN</td>\n",
              "      <td>17.334 17.242 17.149 22.223 22.39 22.199</td>\n",
              "      <td>Продажи - Услуги для населения | Продажи - Пря...</td>\n",
              "      <td>Обязанности:  Работа с туристами (физические и...</td>\n",
              "      <td>обязанность работа турист физический юридическ...</td>\n",
              "      <td>train</td>\n",
              "    </tr>\n",
              "    <tr>\n",
              "      <th>1</th>\n",
              "      <td>17840390</td>\n",
              "      <td>Помощник руководителя</td>\n",
              "      <td>помощник руководитель</td>\n",
              "      <td>Санкт-Петербург</td>\n",
              "      <td>unknown</td>\n",
              "      <td>605490</td>\n",
              "      <td>007, центр услуг</td>\n",
              "      <td>https://hh.ru/employer/605490</td>\n",
              "      <td>2016-08-21T14:28:29+0300</td>\n",
              "      <td>40000.0</td>\n",
              "      <td>RUR</td>\n",
              "      <td>full</td>\n",
              "      <td>Полная занятость</td>\n",
              "      <td>fullDay</td>\n",
              "      <td>Полный день</td>\n",
              "      <td>between1And3</td>\n",
              "      <td>От 1 года до 3 лет</td>\n",
              "      <td>NaN</td>\n",
              "      <td>4.205 4.429 6.319 6.247 2.249</td>\n",
              "      <td>Административный персонал - Персональный ассис...</td>\n",
              "      <td>Вакансия открыта в рамках отдела строительно-о...</td>\n",
              "      <td>вакансия открывать рамка отдел строительный от...</td>\n",
              "      <td>train</td>\n",
              "    </tr>\n",
              "    <tr>\n",
              "      <th>3</th>\n",
              "      <td>17665840</td>\n",
              "      <td>Аналитик</td>\n",
              "      <td>аналитик</td>\n",
              "      <td>Санкт-Петербург</td>\n",
              "      <td>unknown</td>\n",
              "      <td>605490</td>\n",
              "      <td>007, центр услуг</td>\n",
              "      <td>https://hh.ru/employer/605490</td>\n",
              "      <td>2016-08-19T11:57:57+0300</td>\n",
              "      <td>30000.0</td>\n",
              "      <td>RUR</td>\n",
              "      <td>full</td>\n",
              "      <td>Полная занятость</td>\n",
              "      <td>fullDay</td>\n",
              "      <td>Полный день</td>\n",
              "      <td>between1And3</td>\n",
              "      <td>От 1 года до 3 лет</td>\n",
              "      <td>NaN</td>\n",
              "      <td>1.117 1.327 1.25</td>\n",
              "      <td>Информационные технологии, интернет, телеком -...</td>\n",
              "      <td>Обязанности:  Работа в рамках отдела корпорати...</td>\n",
              "      <td>обязанность работа рамка отдел корпоративный п...</td>\n",
              "      <td>train</td>\n",
              "    </tr>\n",
              "    <tr>\n",
              "      <th>4</th>\n",
              "      <td>17914658</td>\n",
              "      <td>Авиакассир</td>\n",
              "      <td>авиакассир</td>\n",
              "      <td>Санкт-Петербург</td>\n",
              "      <td>Санкт-Петербург</td>\n",
              "      <td>605490</td>\n",
              "      <td>007, центр услуг</td>\n",
              "      <td>https://hh.ru/employer/605490</td>\n",
              "      <td>2016-07-29T16:17:47+0300</td>\n",
              "      <td>30000.0</td>\n",
              "      <td>RUR</td>\n",
              "      <td>full</td>\n",
              "      <td>Полная занятость</td>\n",
              "      <td>shift</td>\n",
              "      <td>Сменный график</td>\n",
              "      <td>between1And3</td>\n",
              "      <td>От 1 года до 3 лет</td>\n",
              "      <td>NaN</td>\n",
              "      <td>22.11 21.12 17.334</td>\n",
              "      <td>Туризм, гостиницы, рестораны - Авиабилеты | Тр...</td>\n",
              "      <td>Обязанности:  Бронирование и выписка авиабилет...</td>\n",
              "      <td>обязанность бронирование выписка авиабилет сис...</td>\n",
              "      <td>train</td>\n",
              "    </tr>\n",
              "    <tr>\n",
              "      <th>5</th>\n",
              "      <td>17665632</td>\n",
              "      <td>Бухгалтер</td>\n",
              "      <td>бухгалтер</td>\n",
              "      <td>Санкт-Петербург</td>\n",
              "      <td>Санкт-Петербург</td>\n",
              "      <td>605490</td>\n",
              "      <td>007, центр услуг</td>\n",
              "      <td>https://hh.ru/employer/605490</td>\n",
              "      <td>2016-07-18T15:39:05+0300</td>\n",
              "      <td>25000.0</td>\n",
              "      <td>RUR</td>\n",
              "      <td>full</td>\n",
              "      <td>Полная занятость</td>\n",
              "      <td>fullDay</td>\n",
              "      <td>Полный день</td>\n",
              "      <td>between3And6</td>\n",
              "      <td>От 3 до 6 лет</td>\n",
              "      <td>NaN</td>\n",
              "      <td>2.43 2.335 2.463 2.337 2.469 5.42</td>\n",
              "      <td>Бухгалтерия, управленческий учет, финансы пред...</td>\n",
              "      <td>Обязанности:  Ведение бухгалтерского и налогов...</td>\n",
              "      <td>обязанность ведение бухгалтерский налоговый уч...</td>\n",
              "      <td>train</td>\n",
              "    </tr>\n",
              "    <tr>\n",
              "      <th>6</th>\n",
              "      <td>17118641</td>\n",
              "      <td>Web-программист</td>\n",
              "      <td>Web программист</td>\n",
              "      <td>Санкт-Петербург</td>\n",
              "      <td>Санкт-Петербург</td>\n",
              "      <td>605490</td>\n",
              "      <td>007, центр услуг</td>\n",
              "      <td>https://hh.ru/employer/605490</td>\n",
              "      <td>2016-06-15T11:46:59+0300</td>\n",
              "      <td>45000.0</td>\n",
              "      <td>RUR</td>\n",
              "      <td>full</td>\n",
              "      <td>Полная занятость</td>\n",
              "      <td>fullDay</td>\n",
              "      <td>Полный день</td>\n",
              "      <td>between1And3</td>\n",
              "      <td>От 1 года до 3 лет</td>\n",
              "      <td>NaN</td>\n",
              "      <td>1.221 1.273 1.420 1.9 1.10</td>\n",
              "      <td>Информационные технологии, интернет, телеком -...</td>\n",
              "      <td>Обязанности:  разработка сайтов компании; инте...</td>\n",
              "      <td>обязанность разработка сайт компания интеграци...</td>\n",
              "      <td>train</td>\n",
              "    </tr>\n",
              "    <tr>\n",
              "      <th>7</th>\n",
              "      <td>16795167</td>\n",
              "      <td>Бухгалтер</td>\n",
              "      <td>бухгалтер</td>\n",
              "      <td>Санкт-Петербург</td>\n",
              "      <td>Санкт-Петербург</td>\n",
              "      <td>605490</td>\n",
              "      <td>007, центр услуг</td>\n",
              "      <td>https://hh.ru/employer/605490</td>\n",
              "      <td>2016-06-03T11:05:46+0300</td>\n",
              "      <td>25000.0</td>\n",
              "      <td>RUR</td>\n",
              "      <td>full</td>\n",
              "      <td>Полная занятость</td>\n",
              "      <td>fullDay</td>\n",
              "      <td>Полный день</td>\n",
              "      <td>between3And6</td>\n",
              "      <td>От 3 до 6 лет</td>\n",
              "      <td>NaN</td>\n",
              "      <td>2.43 2.335 2.463 2.337 2.469 5.42</td>\n",
              "      <td>Бухгалтерия, управленческий учет, финансы пред...</td>\n",
              "      <td>Обязанности:  Ведение бухгалтерского и налогов...</td>\n",
              "      <td>обязанность ведение бухгалтерский налоговый уч...</td>\n",
              "      <td>train</td>\n",
              "    </tr>\n",
              "    <tr>\n",
              "      <th>8</th>\n",
              "      <td>17274713</td>\n",
              "      <td>Менеджер по туризму</td>\n",
              "      <td>менеджер туризм</td>\n",
              "      <td>Санкт-Петербург</td>\n",
              "      <td>Санкт-Петербург</td>\n",
              "      <td>605490</td>\n",
              "      <td>007, центр услуг</td>\n",
              "      <td>https://hh.ru/employer/605490</td>\n",
              "      <td>2016-06-02T14:30:41+0300</td>\n",
              "      <td>30000.0</td>\n",
              "      <td>RUR</td>\n",
              "      <td>full</td>\n",
              "      <td>Полная занятость</td>\n",
              "      <td>fullDay</td>\n",
              "      <td>Полный день</td>\n",
              "      <td>between1And3</td>\n",
              "      <td>От 1 года до 3 лет</td>\n",
              "      <td>NaN</td>\n",
              "      <td>22.223 22.39 22.199 17.242 17.149</td>\n",
              "      <td>Туризм, гостиницы, рестораны - Продажа туристи...</td>\n",
              "      <td>Обязанности:  прием заявок от корпоративных кл...</td>\n",
              "      <td>обязанность прием заявка корпоративный клиент ...</td>\n",
              "      <td>train</td>\n",
              "    </tr>\n",
              "    <tr>\n",
              "      <th>9</th>\n",
              "      <td>17257258</td>\n",
              "      <td>Прораб отделочных работ</td>\n",
              "      <td>прораб отделочный работа</td>\n",
              "      <td>Санкт-Петербург</td>\n",
              "      <td>unknown</td>\n",
              "      <td>605490</td>\n",
              "      <td>007, центр услуг</td>\n",
              "      <td>https://hh.ru/employer/605490</td>\n",
              "      <td>2016-06-01T11:58:44+0300</td>\n",
              "      <td>40000.0</td>\n",
              "      <td>RUR</td>\n",
              "      <td>full</td>\n",
              "      <td>Полная занятость</td>\n",
              "      <td>flexible</td>\n",
              "      <td>Гибкий график</td>\n",
              "      <td>between3And6</td>\n",
              "      <td>От 3 до 6 лет</td>\n",
              "      <td>Ответственность | Коммуникабельность</td>\n",
              "      <td>20.287 20.387</td>\n",
              "      <td>Строительство, недвижимость - Строительство | ...</td>\n",
              "      <td>Обязанности:  Составление сметы по ремонтно-от...</td>\n",
              "      <td>обязанность составление смета ремонтный отдело...</td>\n",
              "      <td>train</td>\n",
              "    </tr>\n",
              "    <tr>\n",
              "      <th>10</th>\n",
              "      <td>17878663</td>\n",
              "      <td>Продавец- консультант обуви</td>\n",
              "      <td>продавец консультант обувь</td>\n",
              "      <td>Санкт-Петербург</td>\n",
              "      <td>unknown</td>\n",
              "      <td>1327757</td>\n",
              "      <td>1000 и одна туфелька (Герасимов О. Ю., ИП)</td>\n",
              "      <td>https://hh.ru/employer/1327757</td>\n",
              "      <td>2016-08-25T17:58:33+0300</td>\n",
              "      <td>27000.0</td>\n",
              "      <td>RUR</td>\n",
              "      <td>full</td>\n",
              "      <td>Полная занятость</td>\n",
              "      <td>shift</td>\n",
              "      <td>Сменный график</td>\n",
              "      <td>between1And3</td>\n",
              "      <td>От 1 года до 3 лет</td>\n",
              "      <td>Консультативные продажи | Активные продажи | 1...</td>\n",
              "      <td>17.256 17.149 17.183 17.535 17.520 2.102</td>\n",
              "      <td>Продажи - Розничная торговля | Продажи - Менед...</td>\n",
              "      <td>В сеть магазинов детской и подростковой обуви ...</td>\n",
              "      <td>сеть магазин детский подростковый обувь туфель...</td>\n",
              "      <td>train</td>\n",
              "    </tr>\n",
              "    <tr>\n",
              "      <th>11</th>\n",
              "      <td>17859408</td>\n",
              "      <td>Технолог по обуви/  менеджер по качеству обуви</td>\n",
              "      <td>технолог обувь менеджер качество обувь</td>\n",
              "      <td>Санкт-Петербург</td>\n",
              "      <td>Санкт-Петербург</td>\n",
              "      <td>1327757</td>\n",
              "      <td>1000 и одна туфелька (Герасимов О. Ю., ИП)</td>\n",
              "      <td>https://hh.ru/employer/1327757</td>\n",
              "      <td>2016-07-25T14:23:34+0300</td>\n",
              "      <td>35000.0</td>\n",
              "      <td>RUR</td>\n",
              "      <td>full</td>\n",
              "      <td>Полная занятость</td>\n",
              "      <td>fullDay</td>\n",
              "      <td>Полный день</td>\n",
              "      <td>between1And3</td>\n",
              "      <td>От 1 года до 3 лет</td>\n",
              "      <td>NaN</td>\n",
              "      <td>18.118 18.297</td>\n",
              "      <td>Производство - Контроль качества | Производств...</td>\n",
              "      <td>Обязанности: - Организация работы по предпрода...</td>\n",
              "      <td>обязанность организация работа предпродажный п...</td>\n",
              "      <td>train</td>\n",
              "    </tr>\n",
              "    <tr>\n",
              "      <th>12</th>\n",
              "      <td>17859099</td>\n",
              "      <td>Водитель-экспедитор</td>\n",
              "      <td>водитель экспедитор</td>\n",
              "      <td>Санкт-Петербург</td>\n",
              "      <td>unknown</td>\n",
              "      <td>1327757</td>\n",
              "      <td>1000 и одна туфелька (Герасимов О. Ю., ИП)</td>\n",
              "      <td>https://hh.ru/employer/1327757</td>\n",
              "      <td>2016-07-25T14:10:58+0300</td>\n",
              "      <td>35000.0</td>\n",
              "      <td>RUR</td>\n",
              "      <td>full</td>\n",
              "      <td>Полная занятость</td>\n",
              "      <td>fullDay</td>\n",
              "      <td>Полный день</td>\n",
              "      <td>between3And6</td>\n",
              "      <td>От 3 до 6 лет</td>\n",
              "      <td>NaN</td>\n",
              "      <td>21.17 21.482 21.506</td>\n",
              "      <td>Транспорт, логистика - Автоперевозки | Транспо...</td>\n",
              "      <td>Обязанности: - Развозить товар по маршруту; - ...</td>\n",
              "      <td>обязанность развозить товар маршрут забирать г...</td>\n",
              "      <td>train</td>\n",
              "    </tr>\n",
              "    <tr>\n",
              "      <th>13</th>\n",
              "      <td>17764390</td>\n",
              "      <td>Слесарь МСР</td>\n",
              "      <td>слесарь МСР</td>\n",
              "      <td>Санкт-Петербург</td>\n",
              "      <td>unknown</td>\n",
              "      <td>735232</td>\n",
              "      <td>1000 КАДРОВ</td>\n",
              "      <td>https://hh.ru/employer/735232</td>\n",
              "      <td>2016-07-15T17:22:12+0300</td>\n",
              "      <td>40000.0</td>\n",
              "      <td>RUR</td>\n",
              "      <td>full</td>\n",
              "      <td>Полная занятость</td>\n",
              "      <td>fullDay</td>\n",
              "      <td>Полный день</td>\n",
              "      <td>between1And3</td>\n",
              "      <td>От 1 года до 3 лет</td>\n",
              "      <td>NaN</td>\n",
              "      <td>20.396 20.287 20.490 29.510 29.162 29.552</td>\n",
              "      <td>Строительство, недвижимость - Эксплуатация | С...</td>\n",
              "      <td>Обязанности:  Выполнение слесарной обработки п...</td>\n",
              "      <td>обязанность выполнение слесарная обработка пов...</td>\n",
              "      <td>train</td>\n",
              "    </tr>\n",
              "    <tr>\n",
              "      <th>15</th>\n",
              "      <td>17762519</td>\n",
              "      <td>Оператор станков с ЧПУ</td>\n",
              "      <td>оператор станок чпу</td>\n",
              "      <td>Санкт-Петербург</td>\n",
              "      <td>unknown</td>\n",
              "      <td>735232</td>\n",
              "      <td>1000 КАДРОВ</td>\n",
              "      <td>https://hh.ru/employer/735232</td>\n",
              "      <td>2016-07-15T15:29:03+0300</td>\n",
              "      <td>46000.0</td>\n",
              "      <td>RUR</td>\n",
              "      <td>full</td>\n",
              "      <td>Полная занятость</td>\n",
              "      <td>fullDay</td>\n",
              "      <td>Полный день</td>\n",
              "      <td>between1And3</td>\n",
              "      <td>От 1 года до 3 лет</td>\n",
              "      <td>NaN</td>\n",
              "      <td>18.142 18.16 29.553</td>\n",
              "      <td>Производство - Машиностроение | Производство -...</td>\n",
              "      <td>ОЧЕНЬ СРОЧНО в иностранную производственную ко...</td>\n",
              "      <td>срочно иностранный производственный компания т...</td>\n",
              "      <td>train</td>\n",
              "    </tr>\n",
              "    <tr>\n",
              "      <th>17</th>\n",
              "      <td>17375711</td>\n",
              "      <td>Оператор производственной линии</td>\n",
              "      <td>оператор производственный линия</td>\n",
              "      <td>Санкт-Петербург</td>\n",
              "      <td>unknown</td>\n",
              "      <td>735232</td>\n",
              "      <td>1000 КАДРОВ</td>\n",
              "      <td>https://hh.ru/employer/735232</td>\n",
              "      <td>2016-06-10T18:08:09+0300</td>\n",
              "      <td>27000.0</td>\n",
              "      <td>RUR</td>\n",
              "      <td>full</td>\n",
              "      <td>Полная занятость</td>\n",
              "      <td>fullDay</td>\n",
              "      <td>Полный день</td>\n",
              "      <td>between1And3</td>\n",
              "      <td>От 1 года до 3 лет</td>\n",
              "      <td>NaN</td>\n",
              "      <td>29.556 29.517 29.549 29.553 18.174 18.16</td>\n",
              "      <td>Рабочий персонал - Разнорабочий | Рабочий перс...</td>\n",
              "      <td>Обязанности:  сборка изделий на конвейерной ли...</td>\n",
              "      <td>обязанность сборка изделие конвейерный линия к...</td>\n",
              "      <td>train</td>\n",
              "    </tr>\n",
              "    <tr>\n",
              "      <th>18</th>\n",
              "      <td>17494294</td>\n",
              "      <td>Менеджер по туризму</td>\n",
              "      <td>менеджер туризм</td>\n",
              "      <td>Санкт-Петербург</td>\n",
              "      <td>unknown</td>\n",
              "      <td>1853388</td>\n",
              "      <td>1001 Тур</td>\n",
              "      <td>https://hh.ru/employer/1853388</td>\n",
              "      <td>2016-07-22T14:12:40+0300</td>\n",
              "      <td>35000.0</td>\n",
              "      <td>RUR</td>\n",
              "      <td>full</td>\n",
              "      <td>Полная занятость</td>\n",
              "      <td>fullDay</td>\n",
              "      <td>Полный день</td>\n",
              "      <td>between1And3</td>\n",
              "      <td>От 1 года до 3 лет</td>\n",
              "      <td>NaN</td>\n",
              "      <td>22.223 22.39 22.199 17.242 17.149</td>\n",
              "      <td>Туризм, гостиницы, рестораны - Продажа туристи...</td>\n",
              "      <td>В связи с расширением, крупнейшая Сеть \"1001 т...</td>\n",
              "      <td>связь расширение крупный сеть тур приглашать к...</td>\n",
              "      <td>train</td>\n",
              "    </tr>\n",
              "    <tr>\n",
              "      <th>19</th>\n",
              "      <td>17784559</td>\n",
              "      <td>Менеджер по продажам шин и дисков, масел, АКБ</td>\n",
              "      <td>менеджер продажа шина диск масло акб</td>\n",
              "      <td>Санкт-Петербург</td>\n",
              "      <td>NaN</td>\n",
              "      <td>1650086</td>\n",
              "      <td>1001 Шина</td>\n",
              "      <td>https://hh.ru/employer/1650086</td>\n",
              "      <td>2016-08-15T15:12:42+0300</td>\n",
              "      <td>40000.0</td>\n",
              "      <td>RUR</td>\n",
              "      <td>full</td>\n",
              "      <td>Полная занятость</td>\n",
              "      <td>fullDay</td>\n",
              "      <td>Полный день</td>\n",
              "      <td>between3And6</td>\n",
              "      <td>От 3 до 6 лет</td>\n",
              "      <td>Активные продажи | Холодные продажи | Работа в...</td>\n",
              "      <td>7.14 7.222 7.455 17.306 17.149 17.538</td>\n",
              "      <td>Автомобильный бизнес - Автозапчасти | Автомоби...</td>\n",
              "      <td>Менеджер по продажам грузовых шин.Вакансия тол...</td>\n",
              "      <td>менеджер продажа грузовой шина вакансия активн...</td>\n",
              "      <td>train</td>\n",
              "    </tr>\n",
              "    <tr>\n",
              "      <th>20</th>\n",
              "      <td>17786535</td>\n",
              "      <td>Менеджер по работе с клиентами</td>\n",
              "      <td>менеджер работа клиент</td>\n",
              "      <td>Санкт-Петербург</td>\n",
              "      <td>поселок Ленсоветовский</td>\n",
              "      <td>1650086</td>\n",
              "      <td>1001 Шина</td>\n",
              "      <td>https://hh.ru/employer/1650086</td>\n",
              "      <td>2016-07-18T18:01:58+0300</td>\n",
              "      <td>20000.0</td>\n",
              "      <td>RUR</td>\n",
              "      <td>full</td>\n",
              "      <td>Полная занятость</td>\n",
              "      <td>flexible</td>\n",
              "      <td>Гибкий график</td>\n",
              "      <td>noExperience</td>\n",
              "      <td>Нет опыта</td>\n",
              "      <td>Холодные звонки | Холодные продажи | Ведение п...</td>\n",
              "      <td>7.222 7.455 17.242 17.149 3.148</td>\n",
              "      <td>Автомобильный бизнес - Продажа | Автомобильный...</td>\n",
              "      <td>Менеджер по работе с клиентамиТребования:  хол...</td>\n",
              "      <td>менеджер работа клиентамитребование холодный з...</td>\n",
              "      <td>train</td>\n",
              "    </tr>\n",
              "    <tr>\n",
              "      <th>21</th>\n",
              "      <td>17316090</td>\n",
              "      <td>Менеджер по продажам шин и дисков, масел, АКБ</td>\n",
              "      <td>менеджер продажа шина диск масло акб</td>\n",
              "      <td>Санкт-Петербург</td>\n",
              "      <td>NaN</td>\n",
              "      <td>1650086</td>\n",
              "      <td>1001 Шина</td>\n",
              "      <td>https://hh.ru/employer/1650086</td>\n",
              "      <td>2016-06-06T21:46:37+0300</td>\n",
              "      <td>40000.0</td>\n",
              "      <td>RUR</td>\n",
              "      <td>full</td>\n",
              "      <td>Полная занятость</td>\n",
              "      <td>fullDay</td>\n",
              "      <td>Полный день</td>\n",
              "      <td>between3And6</td>\n",
              "      <td>От 3 до 6 лет</td>\n",
              "      <td>Активные продажи | Холодные продажи | Работа в...</td>\n",
              "      <td>7.14 7.222 7.455 17.306 17.149 17.538</td>\n",
              "      <td>Автомобильный бизнес - Автозапчасти | Автомоби...</td>\n",
              "      <td>Менеджер по продажам грузовых шин.Вакансия тол...</td>\n",
              "      <td>менеджер продажа грузовой шина вакансия активн...</td>\n",
              "      <td>train</td>\n",
              "    </tr>\n",
              "    <tr>\n",
              "      <th>23</th>\n",
              "      <td>17607959</td>\n",
              "      <td>Специалист по таргетированной рекламе / Трафик...</td>\n",
              "      <td>специалист таргетировать реклама трафик менеджер</td>\n",
              "      <td>Санкт-Петербург</td>\n",
              "      <td>Санкт-Петербург</td>\n",
              "      <td>1657429</td>\n",
              "      <td>123 Софтвер</td>\n",
              "      <td>https://hh.ru/employer/1657429</td>\n",
              "      <td>2016-07-31T19:35:29+0300</td>\n",
              "      <td>80000.0</td>\n",
              "      <td>RUR</td>\n",
              "      <td>full</td>\n",
              "      <td>Полная занятость</td>\n",
              "      <td>fullDay</td>\n",
              "      <td>Полный день</td>\n",
              "      <td>between1And3</td>\n",
              "      <td>От 1 года до 3 лет</td>\n",
              "      <td>NaN</td>\n",
              "      <td>3.318 3.8 3.90</td>\n",
              "      <td>Маркетинг, реклама, PR - Управление маркетинго...</td>\n",
              "      <td>Представительству международной финансовой ком...</td>\n",
              "      <td>представительство международный финансовый ком...</td>\n",
              "      <td>train</td>\n",
              "    </tr>\n",
              "  </tbody>\n",
              "</table>\n",
              "</div>"
            ],
            "text/plain": [
              "             id  ...   type\n",
              "index            ...       \n",
              "0      17686451  ...  train\n",
              "1      17840390  ...  train\n",
              "3      17665840  ...  train\n",
              "4      17914658  ...  train\n",
              "5      17665632  ...  train\n",
              "6      17118641  ...  train\n",
              "7      16795167  ...  train\n",
              "8      17274713  ...  train\n",
              "9      17257258  ...  train\n",
              "10     17878663  ...  train\n",
              "11     17859408  ...  train\n",
              "12     17859099  ...  train\n",
              "13     17764390  ...  train\n",
              "15     17762519  ...  train\n",
              "17     17375711  ...  train\n",
              "18     17494294  ...  train\n",
              "19     17784559  ...  train\n",
              "20     17786535  ...  train\n",
              "21     17316090  ...  train\n",
              "23     17607959  ...  train\n",
              "\n",
              "[20 rows x 23 columns]"
            ]
          },
          "metadata": {
            "tags": []
          },
          "execution_count": 4
        }
      ]
    },
    {
      "cell_type": "code",
      "metadata": {
        "id": "LQQG3JFkGu3n",
        "colab_type": "code",
        "colab": {
          "base_uri": "https://localhost:8080/",
          "height": 34
        },
        "outputId": "40403196-a04e-4e7e-a0d9-e364393a3845"
      },
      "source": [
        "df_salaries100k.shape"
      ],
      "execution_count": null,
      "outputs": [
        {
          "output_type": "execute_result",
          "data": {
            "text/plain": [
              "(100001, 23)"
            ]
          },
          "metadata": {
            "tags": []
          },
          "execution_count": 5
        }
      ]
    },
    {
      "cell_type": "code",
      "metadata": {
        "id": "DnmdXsWu68DN",
        "colab_type": "code",
        "colab": {
          "base_uri": "https://localhost:8080/",
          "height": 284
        },
        "outputId": "7685a46d-0b1e-4380-a65b-811d11545484"
      },
      "source": [
        "df_salaries100k.describe()"
      ],
      "execution_count": null,
      "outputs": [
        {
          "output_type": "execute_result",
          "data": {
            "text/html": [
              "<div>\n",
              "<style scoped>\n",
              "    .dataframe tbody tr th:only-of-type {\n",
              "        vertical-align: middle;\n",
              "    }\n",
              "\n",
              "    .dataframe tbody tr th {\n",
              "        vertical-align: top;\n",
              "    }\n",
              "\n",
              "    .dataframe thead th {\n",
              "        text-align: right;\n",
              "    }\n",
              "</style>\n",
              "<table border=\"1\" class=\"dataframe\">\n",
              "  <thead>\n",
              "    <tr style=\"text-align: right;\">\n",
              "      <th></th>\n",
              "      <th>id</th>\n",
              "      <th>company.id</th>\n",
              "      <th>salary_from</th>\n",
              "    </tr>\n",
              "  </thead>\n",
              "  <tbody>\n",
              "    <tr>\n",
              "      <th>count</th>\n",
              "      <td>1.000010e+05</td>\n",
              "      <td>1.000010e+05</td>\n",
              "      <td>100001.000000</td>\n",
              "    </tr>\n",
              "    <tr>\n",
              "      <th>mean</th>\n",
              "      <td>2.029259e+07</td>\n",
              "      <td>1.066682e+06</td>\n",
              "      <td>41048.389456</td>\n",
              "    </tr>\n",
              "    <tr>\n",
              "      <th>std</th>\n",
              "      <td>2.733736e+06</td>\n",
              "      <td>9.670595e+05</td>\n",
              "      <td>21801.077872</td>\n",
              "    </tr>\n",
              "    <tr>\n",
              "      <th>min</th>\n",
              "      <td>4.140466e+06</td>\n",
              "      <td>6.000000e+00</td>\n",
              "      <td>15.000000</td>\n",
              "    </tr>\n",
              "    <tr>\n",
              "      <th>25%</th>\n",
              "      <td>1.771999e+07</td>\n",
              "      <td>8.305600e+04</td>\n",
              "      <td>28750.000000</td>\n",
              "    </tr>\n",
              "    <tr>\n",
              "      <th>50%</th>\n",
              "      <td>2.005649e+07</td>\n",
              "      <td>9.111140e+05</td>\n",
              "      <td>35000.000000</td>\n",
              "    </tr>\n",
              "    <tr>\n",
              "      <th>75%</th>\n",
              "      <td>2.369521e+07</td>\n",
              "      <td>1.880360e+06</td>\n",
              "      <td>50000.000000</td>\n",
              "    </tr>\n",
              "    <tr>\n",
              "      <th>max</th>\n",
              "      <td>2.433712e+07</td>\n",
              "      <td>3.553214e+06</td>\n",
              "      <td>400000.000000</td>\n",
              "    </tr>\n",
              "  </tbody>\n",
              "</table>\n",
              "</div>"
            ],
            "text/plain": [
              "                 id    company.id    salary_from\n",
              "count  1.000010e+05  1.000010e+05  100001.000000\n",
              "mean   2.029259e+07  1.066682e+06   41048.389456\n",
              "std    2.733736e+06  9.670595e+05   21801.077872\n",
              "min    4.140466e+06  6.000000e+00      15.000000\n",
              "25%    1.771999e+07  8.305600e+04   28750.000000\n",
              "50%    2.005649e+07  9.111140e+05   35000.000000\n",
              "75%    2.369521e+07  1.880360e+06   50000.000000\n",
              "max    2.433712e+07  3.553214e+06  400000.000000"
            ]
          },
          "metadata": {
            "tags": []
          },
          "execution_count": 6
        }
      ]
    },
    {
      "cell_type": "code",
      "metadata": {
        "id": "PKc6KsJln0BJ",
        "colab_type": "code",
        "colab": {
          "base_uri": "https://localhost:8080/",
          "height": 118
        },
        "outputId": "d48570d1-f0be-448a-a90b-15f9b41b4587"
      },
      "source": [
        "df_salaries100k.columns"
      ],
      "execution_count": null,
      "outputs": [
        {
          "output_type": "execute_result",
          "data": {
            "text/plain": [
              "Index(['id', 'name', 'name.lemm', 'area.name', 'city', 'company.id', 'company',\n",
              "       'company_link', 'publication_date', 'salary_from', 'salary_currency',\n",
              "       'employment', 'employment.name', 'schedule', 'schedule.name',\n",
              "       'experience', 'experience.name', 'key_skills', 'specializations',\n",
              "       'specializations.names', 'description', 'description.lemm', 'type'],\n",
              "      dtype='object')"
            ]
          },
          "metadata": {
            "tags": []
          },
          "execution_count": 7
        }
      ]
    },
    {
      "cell_type": "code",
      "metadata": {
        "id": "Y9DOuDrMtae9",
        "colab_type": "code",
        "colab": {
          "base_uri": "https://localhost:8080/",
          "height": 564
        },
        "outputId": "d71b870d-fa2d-4d60-bc11-3bec65ef675d"
      },
      "source": [
        "#сделаем колонку lemms в которой объединим данные из name.lemm и description.lemm это должно существеннго повысить\n",
        "#точность предсказания\n",
        "df_salaries100k['lemms']=df_salaries100k['name.lemm']+' '+df_salaries100k['description.lemm']\n",
        "df_salaries100k.head()\n"
      ],
      "execution_count": null,
      "outputs": [
        {
          "output_type": "execute_result",
          "data": {
            "text/html": [
              "<div>\n",
              "<style scoped>\n",
              "    .dataframe tbody tr th:only-of-type {\n",
              "        vertical-align: middle;\n",
              "    }\n",
              "\n",
              "    .dataframe tbody tr th {\n",
              "        vertical-align: top;\n",
              "    }\n",
              "\n",
              "    .dataframe thead th {\n",
              "        text-align: right;\n",
              "    }\n",
              "</style>\n",
              "<table border=\"1\" class=\"dataframe\">\n",
              "  <thead>\n",
              "    <tr style=\"text-align: right;\">\n",
              "      <th></th>\n",
              "      <th>id</th>\n",
              "      <th>name</th>\n",
              "      <th>name.lemm</th>\n",
              "      <th>area.name</th>\n",
              "      <th>city</th>\n",
              "      <th>company.id</th>\n",
              "      <th>company</th>\n",
              "      <th>company_link</th>\n",
              "      <th>publication_date</th>\n",
              "      <th>salary_from</th>\n",
              "      <th>salary_currency</th>\n",
              "      <th>employment</th>\n",
              "      <th>employment.name</th>\n",
              "      <th>schedule</th>\n",
              "      <th>schedule.name</th>\n",
              "      <th>experience</th>\n",
              "      <th>experience.name</th>\n",
              "      <th>key_skills</th>\n",
              "      <th>specializations</th>\n",
              "      <th>specializations.names</th>\n",
              "      <th>description</th>\n",
              "      <th>description.lemm</th>\n",
              "      <th>type</th>\n",
              "      <th>lemms</th>\n",
              "    </tr>\n",
              "    <tr>\n",
              "      <th>index</th>\n",
              "      <th></th>\n",
              "      <th></th>\n",
              "      <th></th>\n",
              "      <th></th>\n",
              "      <th></th>\n",
              "      <th></th>\n",
              "      <th></th>\n",
              "      <th></th>\n",
              "      <th></th>\n",
              "      <th></th>\n",
              "      <th></th>\n",
              "      <th></th>\n",
              "      <th></th>\n",
              "      <th></th>\n",
              "      <th></th>\n",
              "      <th></th>\n",
              "      <th></th>\n",
              "      <th></th>\n",
              "      <th></th>\n",
              "      <th></th>\n",
              "      <th></th>\n",
              "      <th></th>\n",
              "      <th></th>\n",
              "      <th></th>\n",
              "    </tr>\n",
              "  </thead>\n",
              "  <tbody>\n",
              "    <tr>\n",
              "      <th>0</th>\n",
              "      <td>17686451</td>\n",
              "      <td>Менеджер по туризму</td>\n",
              "      <td>менеджер туризм</td>\n",
              "      <td>Санкт-Петербург</td>\n",
              "      <td>Санкт-Петербург</td>\n",
              "      <td>605490</td>\n",
              "      <td>007, центр услуг</td>\n",
              "      <td>https://hh.ru/employer/605490</td>\n",
              "      <td>2016-08-21T14:52:35+0300</td>\n",
              "      <td>40000.0</td>\n",
              "      <td>RUR</td>\n",
              "      <td>full</td>\n",
              "      <td>Полная занятость</td>\n",
              "      <td>fullDay</td>\n",
              "      <td>Полный день</td>\n",
              "      <td>between1And3</td>\n",
              "      <td>От 1 года до 3 лет</td>\n",
              "      <td>NaN</td>\n",
              "      <td>17.334 17.242 17.149 22.223 22.39 22.199</td>\n",
              "      <td>Продажи - Услуги для населения | Продажи - Пря...</td>\n",
              "      <td>Обязанности:  Работа с туристами (физические и...</td>\n",
              "      <td>обязанность работа турист физический юридическ...</td>\n",
              "      <td>train</td>\n",
              "      <td>менеджер туризм обязанность работа турист физи...</td>\n",
              "    </tr>\n",
              "    <tr>\n",
              "      <th>1</th>\n",
              "      <td>17840390</td>\n",
              "      <td>Помощник руководителя</td>\n",
              "      <td>помощник руководитель</td>\n",
              "      <td>Санкт-Петербург</td>\n",
              "      <td>unknown</td>\n",
              "      <td>605490</td>\n",
              "      <td>007, центр услуг</td>\n",
              "      <td>https://hh.ru/employer/605490</td>\n",
              "      <td>2016-08-21T14:28:29+0300</td>\n",
              "      <td>40000.0</td>\n",
              "      <td>RUR</td>\n",
              "      <td>full</td>\n",
              "      <td>Полная занятость</td>\n",
              "      <td>fullDay</td>\n",
              "      <td>Полный день</td>\n",
              "      <td>between1And3</td>\n",
              "      <td>От 1 года до 3 лет</td>\n",
              "      <td>NaN</td>\n",
              "      <td>4.205 4.429 6.319 6.247 2.249</td>\n",
              "      <td>Административный персонал - Персональный ассис...</td>\n",
              "      <td>Вакансия открыта в рамках отдела строительно-о...</td>\n",
              "      <td>вакансия открывать рамка отдел строительный от...</td>\n",
              "      <td>train</td>\n",
              "      <td>помощник руководитель вакансия открывать рамка...</td>\n",
              "    </tr>\n",
              "    <tr>\n",
              "      <th>3</th>\n",
              "      <td>17665840</td>\n",
              "      <td>Аналитик</td>\n",
              "      <td>аналитик</td>\n",
              "      <td>Санкт-Петербург</td>\n",
              "      <td>unknown</td>\n",
              "      <td>605490</td>\n",
              "      <td>007, центр услуг</td>\n",
              "      <td>https://hh.ru/employer/605490</td>\n",
              "      <td>2016-08-19T11:57:57+0300</td>\n",
              "      <td>30000.0</td>\n",
              "      <td>RUR</td>\n",
              "      <td>full</td>\n",
              "      <td>Полная занятость</td>\n",
              "      <td>fullDay</td>\n",
              "      <td>Полный день</td>\n",
              "      <td>between1And3</td>\n",
              "      <td>От 1 года до 3 лет</td>\n",
              "      <td>NaN</td>\n",
              "      <td>1.117 1.327 1.25</td>\n",
              "      <td>Информационные технологии, интернет, телеком -...</td>\n",
              "      <td>Обязанности:  Работа в рамках отдела корпорати...</td>\n",
              "      <td>обязанность работа рамка отдел корпоративный п...</td>\n",
              "      <td>train</td>\n",
              "      <td>аналитик обязанность работа рамка отдел корпор...</td>\n",
              "    </tr>\n",
              "    <tr>\n",
              "      <th>4</th>\n",
              "      <td>17914658</td>\n",
              "      <td>Авиакассир</td>\n",
              "      <td>авиакассир</td>\n",
              "      <td>Санкт-Петербург</td>\n",
              "      <td>Санкт-Петербург</td>\n",
              "      <td>605490</td>\n",
              "      <td>007, центр услуг</td>\n",
              "      <td>https://hh.ru/employer/605490</td>\n",
              "      <td>2016-07-29T16:17:47+0300</td>\n",
              "      <td>30000.0</td>\n",
              "      <td>RUR</td>\n",
              "      <td>full</td>\n",
              "      <td>Полная занятость</td>\n",
              "      <td>shift</td>\n",
              "      <td>Сменный график</td>\n",
              "      <td>between1And3</td>\n",
              "      <td>От 1 года до 3 лет</td>\n",
              "      <td>NaN</td>\n",
              "      <td>22.11 21.12 17.334</td>\n",
              "      <td>Туризм, гостиницы, рестораны - Авиабилеты | Тр...</td>\n",
              "      <td>Обязанности:  Бронирование и выписка авиабилет...</td>\n",
              "      <td>обязанность бронирование выписка авиабилет сис...</td>\n",
              "      <td>train</td>\n",
              "      <td>авиакассир обязанность бронирование выписка ав...</td>\n",
              "    </tr>\n",
              "    <tr>\n",
              "      <th>5</th>\n",
              "      <td>17665632</td>\n",
              "      <td>Бухгалтер</td>\n",
              "      <td>бухгалтер</td>\n",
              "      <td>Санкт-Петербург</td>\n",
              "      <td>Санкт-Петербург</td>\n",
              "      <td>605490</td>\n",
              "      <td>007, центр услуг</td>\n",
              "      <td>https://hh.ru/employer/605490</td>\n",
              "      <td>2016-07-18T15:39:05+0300</td>\n",
              "      <td>25000.0</td>\n",
              "      <td>RUR</td>\n",
              "      <td>full</td>\n",
              "      <td>Полная занятость</td>\n",
              "      <td>fullDay</td>\n",
              "      <td>Полный день</td>\n",
              "      <td>between3And6</td>\n",
              "      <td>От 3 до 6 лет</td>\n",
              "      <td>NaN</td>\n",
              "      <td>2.43 2.335 2.463 2.337 2.469 5.42</td>\n",
              "      <td>Бухгалтерия, управленческий учет, финансы пред...</td>\n",
              "      <td>Обязанности:  Ведение бухгалтерского и налогов...</td>\n",
              "      <td>обязанность ведение бухгалтерский налоговый уч...</td>\n",
              "      <td>train</td>\n",
              "      <td>бухгалтер обязанность ведение бухгалтерский на...</td>\n",
              "    </tr>\n",
              "  </tbody>\n",
              "</table>\n",
              "</div>"
            ],
            "text/plain": [
              "             id  ...                                              lemms\n",
              "index            ...                                                   \n",
              "0      17686451  ...  менеджер туризм обязанность работа турист физи...\n",
              "1      17840390  ...  помощник руководитель вакансия открывать рамка...\n",
              "3      17665840  ...  аналитик обязанность работа рамка отдел корпор...\n",
              "4      17914658  ...  авиакассир обязанность бронирование выписка ав...\n",
              "5      17665632  ...  бухгалтер обязанность ведение бухгалтерский на...\n",
              "\n",
              "[5 rows x 24 columns]"
            ]
          },
          "metadata": {
            "tags": []
          },
          "execution_count": 8
        }
      ]
    },
    {
      "cell_type": "code",
      "metadata": {
        "id": "szodoJG8bBuE",
        "colab_type": "code",
        "colab": {
          "base_uri": "https://localhost:8080/",
          "height": 34
        },
        "outputId": "374f9e27-eaea-4d3d-fe92-4479df4a3dbc"
      },
      "source": [
        "#посморим сколько у нас валют\n",
        "df_salaries100k['salary_currency'].nunique()"
      ],
      "execution_count": null,
      "outputs": [
        {
          "output_type": "execute_result",
          "data": {
            "text/plain": [
              "1"
            ]
          },
          "metadata": {
            "tags": []
          },
          "execution_count": 10
        }
      ]
    },
    {
      "cell_type": "markdown",
      "metadata": {
        "id": "2UKBc82Fn-vo",
        "colab_type": "text"
      },
      "source": [
        "хорошая новость, зарплаты у нас все в рублях. заморачиваться по переводу зарплат в других валютах нет."
      ]
    },
    {
      "cell_type": "code",
      "metadata": {
        "id": "LQJjS3MuJXtb",
        "colab_type": "code",
        "colab": {
          "base_uri": "https://localhost:8080/",
          "height": 34
        },
        "outputId": "c270ec37-dddc-401d-c32c-9af20ca7161c"
      },
      "source": [
        "#посморим сколько у нас работодателей\n",
        "df_salaries100k['company.id'].nunique()"
      ],
      "execution_count": null,
      "outputs": [
        {
          "output_type": "execute_result",
          "data": {
            "text/plain": [
              "17513"
            ]
          },
          "metadata": {
            "tags": []
          },
          "execution_count": 11
        }
      ]
    },
    {
      "cell_type": "code",
      "metadata": {
        "id": "1RLEx27IJwsJ",
        "colab_type": "code",
        "colab": {
          "base_uri": "https://localhost:8080/",
          "height": 218
        },
        "outputId": "b0311d45-908b-4641-d00e-69899e52855a"
      },
      "source": [
        "df_salaries100k['company.id'].value_counts()"
      ],
      "execution_count": null,
      "outputs": [
        {
          "output_type": "execute_result",
          "data": {
            "text/plain": [
              "533        1855\n",
              "1111042    1501\n",
              "232489     1082\n",
              "1419273     895\n",
              "1942330     873\n",
              "           ... \n",
              "1918967       1\n",
              "1128377       1\n",
              "2070445       1\n",
              "2858924       1\n",
              "2785997       1\n",
              "Name: company.id, Length: 17513, dtype: int64"
            ]
          },
          "metadata": {
            "tags": []
          },
          "execution_count": 12
        }
      ]
    },
    {
      "cell_type": "code",
      "metadata": {
        "id": "OUB_FHT9eQTe",
        "colab_type": "code",
        "colab": {}
      },
      "source": [
        "#сделакм классификатор на основе Берт, который будет определять работодателя по вакансии\n",
        "#для начал возьмет топ3 работодателя и будет определять их\n"
      ],
      "execution_count": null,
      "outputs": []
    },
    {
      "cell_type": "code",
      "metadata": {
        "id": "QF1SyPd33JFG",
        "colab_type": "code",
        "colab": {
          "base_uri": "https://localhost:8080/",
          "height": 625
        },
        "outputId": "d1a38f68-0bae-43aa-f447-30f9c44f0d20"
      },
      "source": [
        "!pip install pytorch-transformers"
      ],
      "execution_count": null,
      "outputs": [
        {
          "output_type": "stream",
          "text": [
            "Collecting pytorch-transformers\n",
            "\u001b[?25l  Downloading https://files.pythonhosted.org/packages/a3/b7/d3d18008a67e0b968d1ab93ad444fc05699403fa662f634b2f2c318a508b/pytorch_transformers-1.2.0-py3-none-any.whl (176kB)\n",
            "\r\u001b[K     |█▉                              | 10kB 28.7MB/s eta 0:00:01\r\u001b[K     |███▊                            | 20kB 3.0MB/s eta 0:00:01\r\u001b[K     |█████▋                          | 30kB 4.0MB/s eta 0:00:01\r\u001b[K     |███████▍                        | 40kB 4.4MB/s eta 0:00:01\r\u001b[K     |█████████▎                      | 51kB 3.6MB/s eta 0:00:01\r\u001b[K     |███████████▏                    | 61kB 4.0MB/s eta 0:00:01\r\u001b[K     |█████████████                   | 71kB 4.3MB/s eta 0:00:01\r\u001b[K     |██████████████▉                 | 81kB 4.7MB/s eta 0:00:01\r\u001b[K     |████████████████▊               | 92kB 5.0MB/s eta 0:00:01\r\u001b[K     |██████████████████▋             | 102kB 4.8MB/s eta 0:00:01\r\u001b[K     |████████████████████▍           | 112kB 4.8MB/s eta 0:00:01\r\u001b[K     |██████████████████████▎         | 122kB 4.8MB/s eta 0:00:01\r\u001b[K     |████████████████████████▏       | 133kB 4.8MB/s eta 0:00:01\r\u001b[K     |██████████████████████████      | 143kB 4.8MB/s eta 0:00:01\r\u001b[K     |███████████████████████████▉    | 153kB 4.8MB/s eta 0:00:01\r\u001b[K     |█████████████████████████████▊  | 163kB 4.8MB/s eta 0:00:01\r\u001b[K     |███████████████████████████████▋| 174kB 4.8MB/s eta 0:00:01\r\u001b[K     |████████████████████████████████| 184kB 4.8MB/s \n",
            "\u001b[?25hCollecting sacremoses\n",
            "\u001b[?25l  Downloading https://files.pythonhosted.org/packages/7d/34/09d19aff26edcc8eb2a01bed8e98f13a1537005d31e95233fd48216eed10/sacremoses-0.0.43.tar.gz (883kB)\n",
            "\u001b[K     |████████████████████████████████| 890kB 15.5MB/s \n",
            "\u001b[?25hRequirement already satisfied: tqdm in /usr/local/lib/python3.6/dist-packages (from pytorch-transformers) (4.41.1)\n",
            "Requirement already satisfied: requests in /usr/local/lib/python3.6/dist-packages (from pytorch-transformers) (2.23.0)\n",
            "Requirement already satisfied: numpy in /usr/local/lib/python3.6/dist-packages (from pytorch-transformers) (1.18.5)\n",
            "Requirement already satisfied: torch>=1.0.0 in /usr/local/lib/python3.6/dist-packages (from pytorch-transformers) (1.5.1+cu101)\n",
            "Requirement already satisfied: regex in /usr/local/lib/python3.6/dist-packages (from pytorch-transformers) (2019.12.20)\n",
            "Requirement already satisfied: boto3 in /usr/local/lib/python3.6/dist-packages (from pytorch-transformers) (1.14.9)\n",
            "Collecting sentencepiece\n",
            "\u001b[?25l  Downloading https://files.pythonhosted.org/packages/d4/a4/d0a884c4300004a78cca907a6ff9a5e9fe4f090f5d95ab341c53d28cbc58/sentencepiece-0.1.91-cp36-cp36m-manylinux1_x86_64.whl (1.1MB)\n",
            "\u001b[K     |████████████████████████████████| 1.1MB 30.9MB/s \n",
            "\u001b[?25hRequirement already satisfied: six in /usr/local/lib/python3.6/dist-packages (from sacremoses->pytorch-transformers) (1.12.0)\n",
            "Requirement already satisfied: click in /usr/local/lib/python3.6/dist-packages (from sacremoses->pytorch-transformers) (7.1.2)\n",
            "Requirement already satisfied: joblib in /usr/local/lib/python3.6/dist-packages (from sacremoses->pytorch-transformers) (0.15.1)\n",
            "Requirement already satisfied: chardet<4,>=3.0.2 in /usr/local/lib/python3.6/dist-packages (from requests->pytorch-transformers) (3.0.4)\n",
            "Requirement already satisfied: certifi>=2017.4.17 in /usr/local/lib/python3.6/dist-packages (from requests->pytorch-transformers) (2020.6.20)\n",
            "Requirement already satisfied: urllib3!=1.25.0,!=1.25.1,<1.26,>=1.21.1 in /usr/local/lib/python3.6/dist-packages (from requests->pytorch-transformers) (1.24.3)\n",
            "Requirement already satisfied: idna<3,>=2.5 in /usr/local/lib/python3.6/dist-packages (from requests->pytorch-transformers) (2.9)\n",
            "Requirement already satisfied: future in /usr/local/lib/python3.6/dist-packages (from torch>=1.0.0->pytorch-transformers) (0.16.0)\n",
            "Requirement already satisfied: botocore<1.18.0,>=1.17.9 in /usr/local/lib/python3.6/dist-packages (from boto3->pytorch-transformers) (1.17.9)\n",
            "Requirement already satisfied: s3transfer<0.4.0,>=0.3.0 in /usr/local/lib/python3.6/dist-packages (from boto3->pytorch-transformers) (0.3.3)\n",
            "Requirement already satisfied: jmespath<1.0.0,>=0.7.1 in /usr/local/lib/python3.6/dist-packages (from boto3->pytorch-transformers) (0.10.0)\n",
            "Requirement already satisfied: docutils<0.16,>=0.10 in /usr/local/lib/python3.6/dist-packages (from botocore<1.18.0,>=1.17.9->boto3->pytorch-transformers) (0.15.2)\n",
            "Requirement already satisfied: python-dateutil<3.0.0,>=2.1 in /usr/local/lib/python3.6/dist-packages (from botocore<1.18.0,>=1.17.9->boto3->pytorch-transformers) (2.8.1)\n",
            "Building wheels for collected packages: sacremoses\n",
            "  Building wheel for sacremoses (setup.py) ... \u001b[?25l\u001b[?25hdone\n",
            "  Created wheel for sacremoses: filename=sacremoses-0.0.43-cp36-none-any.whl size=893260 sha256=e8b49912f6b8ca50605e8860f267aa38aa8f705ea047043797003b786de4c486\n",
            "  Stored in directory: /root/.cache/pip/wheels/29/3c/fd/7ce5c3f0666dab31a50123635e6fb5e19ceb42ce38d4e58f45\n",
            "Successfully built sacremoses\n",
            "Installing collected packages: sacremoses, sentencepiece, pytorch-transformers\n",
            "Successfully installed pytorch-transformers-1.2.0 sacremoses-0.0.43 sentencepiece-0.1.91\n"
          ],
          "name": "stdout"
        }
      ]
    },
    {
      "cell_type": "code",
      "metadata": {
        "id": "RmdNq3Gn3Ji1",
        "colab_type": "code",
        "colab": {
          "base_uri": "https://localhost:8080/",
          "height": 34
        },
        "outputId": "faf48949-331b-4d0c-a650-fae40b81e7ea"
      },
      "source": [
        "import torch\n",
        "from torch.utils.data import TensorDataset, DataLoader, RandomSampler, SequentialSampler\n",
        "from keras.preprocessing.sequence import pad_sequences\n",
        "from pytorch_transformers import BertTokenizer, BertConfig\n",
        "from pytorch_transformers import AdamW, BertForSequenceClassification\n",
        "from tqdm import tqdm, trange\n",
        "import io\n",
        "from sklearn.metrics import accuracy_score\n",
        "import matplotlib.pyplot as plt"
      ],
      "execution_count": null,
      "outputs": [
        {
          "output_type": "stream",
          "text": [
            "Using TensorFlow backend.\n"
          ],
          "name": "stderr"
        }
      ]
    },
    {
      "cell_type": "code",
      "metadata": {
        "id": "aH2eU5E03KKL",
        "colab_type": "code",
        "colab": {
          "base_uri": "https://localhost:8080/",
          "height": 34
        },
        "outputId": "5ebfb759-0d71-4019-c73c-c3672a63f5cf"
      },
      "source": [
        "device = torch.device(\"cuda\" if torch.cuda.is_available() else \"cpu\")\n",
        "if device == 'cpu':\n",
        "    print('cpu')\n",
        "else:\n",
        "    n_gpu = torch.cuda.device_count()\n",
        "    print(torch.cuda.get_device_name(0))"
      ],
      "execution_count": null,
      "outputs": [
        {
          "output_type": "stream",
          "text": [
            "Tesla P100-PCIE-16GB\n"
          ],
          "name": "stdout"
        }
      ]
    },
    {
      "cell_type": "code",
      "metadata": {
        "id": "BQkUja8v3K02",
        "colab_type": "code",
        "colab": {}
      },
      "source": [
        "def add_CLS_SEP(txt):\n",
        "  \"\"\"\n",
        "  This func add [CLS] AT THE BEGINNING OF TEXT AND [SEP] AT THE END OF TEXT\n",
        "  БЕРТу нужет такой формат\n",
        "  \"\"\"\n",
        "  txt=str(txt).lower()\n",
        "  txt = \"[CLS] \" + txt[:500] + \" [SEP]\"\n",
        "  return txt"
      ],
      "execution_count": null,
      "outputs": []
    },
    {
      "cell_type": "code",
      "metadata": {
        "id": "SBZIpsczG4UE",
        "colab_type": "code",
        "colab": {
          "base_uri": "https://localhost:8080/",
          "height": 35
        },
        "outputId": "6811db88-ba90-4562-e9c3-8cfa8a7a8a42"
      },
      "source": [
        "#проверяем функцию выше\n",
        "add_CLS_SEP('Мама мыла, раму и')"
      ],
      "execution_count": null,
      "outputs": [
        {
          "output_type": "execute_result",
          "data": {
            "application/vnd.google.colaboratory.intrinsic": {
              "type": "string"
            },
            "text/plain": [
              "'[CLS] мама мыла, раму и [SEP]'"
            ]
          },
          "metadata": {
            "tags": []
          },
          "execution_count": 17
        }
      ]
    },
    {
      "cell_type": "code",
      "metadata": {
        "id": "pav9TJZaHJ0A",
        "colab_type": "code",
        "colab": {}
      },
      "source": [
        "#выберем из датасета три самых популярных работодателя\n",
        "set_top3_employers={533,1111042,232489}"
      ],
      "execution_count": null,
      "outputs": []
    },
    {
      "cell_type": "code",
      "metadata": {
        "id": "VKSuqwKN4JTm",
        "colab_type": "code",
        "colab": {
          "base_uri": "https://localhost:8080/",
          "height": 497
        },
        "outputId": "33e4f31f-29f6-48b7-9e44-2a1bcb16f179"
      },
      "source": [
        "#take lines for top spec\n",
        "df_salaries=df_salaries100k.loc[df_salaries100k['company.id'].isin(set_top3_employers)]\n",
        "df_salaries.head()"
      ],
      "execution_count": null,
      "outputs": [
        {
          "output_type": "execute_result",
          "data": {
            "text/html": [
              "<div>\n",
              "<style scoped>\n",
              "    .dataframe tbody tr th:only-of-type {\n",
              "        vertical-align: middle;\n",
              "    }\n",
              "\n",
              "    .dataframe tbody tr th {\n",
              "        vertical-align: top;\n",
              "    }\n",
              "\n",
              "    .dataframe thead th {\n",
              "        text-align: right;\n",
              "    }\n",
              "</style>\n",
              "<table border=\"1\" class=\"dataframe\">\n",
              "  <thead>\n",
              "    <tr style=\"text-align: right;\">\n",
              "      <th></th>\n",
              "      <th>id</th>\n",
              "      <th>name</th>\n",
              "      <th>name.lemm</th>\n",
              "      <th>area.name</th>\n",
              "      <th>city</th>\n",
              "      <th>company.id</th>\n",
              "      <th>company</th>\n",
              "      <th>company_link</th>\n",
              "      <th>publication_date</th>\n",
              "      <th>salary_from</th>\n",
              "      <th>salary_currency</th>\n",
              "      <th>employment</th>\n",
              "      <th>employment.name</th>\n",
              "      <th>schedule</th>\n",
              "      <th>schedule.name</th>\n",
              "      <th>experience</th>\n",
              "      <th>experience.name</th>\n",
              "      <th>key_skills</th>\n",
              "      <th>specializations</th>\n",
              "      <th>specializations.names</th>\n",
              "      <th>description</th>\n",
              "      <th>description.lemm</th>\n",
              "      <th>type</th>\n",
              "      <th>lemms</th>\n",
              "    </tr>\n",
              "    <tr>\n",
              "      <th>index</th>\n",
              "      <th></th>\n",
              "      <th></th>\n",
              "      <th></th>\n",
              "      <th></th>\n",
              "      <th></th>\n",
              "      <th></th>\n",
              "      <th></th>\n",
              "      <th></th>\n",
              "      <th></th>\n",
              "      <th></th>\n",
              "      <th></th>\n",
              "      <th></th>\n",
              "      <th></th>\n",
              "      <th></th>\n",
              "      <th></th>\n",
              "      <th></th>\n",
              "      <th></th>\n",
              "      <th></th>\n",
              "      <th></th>\n",
              "      <th></th>\n",
              "      <th></th>\n",
              "      <th></th>\n",
              "      <th></th>\n",
              "      <th></th>\n",
              "    </tr>\n",
              "  </thead>\n",
              "  <tbody>\n",
              "    <tr>\n",
              "      <th>13513</th>\n",
              "      <td>16830052</td>\n",
              "      <td>Менеджер по продажам электротехнической продукции</td>\n",
              "      <td>менеджер продажа электротехнический продукция</td>\n",
              "      <td>Санкт-Петербург</td>\n",
              "      <td>Санкт-Петербург</td>\n",
              "      <td>232489</td>\n",
              "      <td>АРЕС</td>\n",
              "      <td>https://hh.ru/employer/232489</td>\n",
              "      <td>2017-06-05T15:41:57+0300</td>\n",
              "      <td>80000.0</td>\n",
              "      <td>RUR</td>\n",
              "      <td>full</td>\n",
              "      <td>Полная занятость</td>\n",
              "      <td>fullDay</td>\n",
              "      <td>Полный день</td>\n",
              "      <td>noExperience</td>\n",
              "      <td>Нет опыта</td>\n",
              "      <td>NaN</td>\n",
              "      <td>17.397 17.417 17.358 17.279 17.152</td>\n",
              "      <td>Продажи - Электротехническое оборудование, Све...</td>\n",
              "      <td>Обязанности:   ведение и расширение клиентской...</td>\n",
              "      <td>обязанность ведение расширение клиентский база...</td>\n",
              "      <td>train</td>\n",
              "      <td>менеджер продажа электротехнический продукция ...</td>\n",
              "    </tr>\n",
              "    <tr>\n",
              "      <th>13514</th>\n",
              "      <td>13705065</td>\n",
              "      <td>Менеджер по продвижению индустриальных ЛКМ</td>\n",
              "      <td>менеджер продвижение индустриальный ЛКМ</td>\n",
              "      <td>Санкт-Петербург</td>\n",
              "      <td>Санкт-Петербург</td>\n",
              "      <td>232489</td>\n",
              "      <td>АРЕС</td>\n",
              "      <td>https://hh.ru/employer/232489</td>\n",
              "      <td>2017-05-22T17:54:28+0300</td>\n",
              "      <td>60000.0</td>\n",
              "      <td>RUR</td>\n",
              "      <td>full</td>\n",
              "      <td>Полная занятость</td>\n",
              "      <td>fullDay</td>\n",
              "      <td>Полный день</td>\n",
              "      <td>between1And3</td>\n",
              "      <td>От 1 года до 3 лет</td>\n",
              "      <td>NaN</td>\n",
              "      <td>18.348 17.401 17.417 17.196 17.149 17.279</td>\n",
              "      <td>Производство - Химическая промышленность | Про...</td>\n",
              "      <td>Производство ЛКМ приглашает менеджера по продв...</td>\n",
              "      <td>производство ЛКМ приглашать менеджер продвижен...</td>\n",
              "      <td>train</td>\n",
              "      <td>менеджер продвижение индустриальный ЛКМ произв...</td>\n",
              "    </tr>\n",
              "    <tr>\n",
              "      <th>13515</th>\n",
              "      <td>17475725</td>\n",
              "      <td>Менеджер по продвижению эпоксидных наливных полов</td>\n",
              "      <td>менеджер продвижение эпоксидный наливной пол</td>\n",
              "      <td>Санкт-Петербург</td>\n",
              "      <td>unknown</td>\n",
              "      <td>232489</td>\n",
              "      <td>АРЕС</td>\n",
              "      <td>https://hh.ru/employer/232489</td>\n",
              "      <td>2017-05-22T17:54:28+0300</td>\n",
              "      <td>60000.0</td>\n",
              "      <td>RUR</td>\n",
              "      <td>full</td>\n",
              "      <td>Полная занятость</td>\n",
              "      <td>fullDay</td>\n",
              "      <td>Полный день</td>\n",
              "      <td>between1And3</td>\n",
              "      <td>От 1 года до 3 лет</td>\n",
              "      <td>NaN</td>\n",
              "      <td>17.401 17.417 17.196 17.149</td>\n",
              "      <td>Продажи - Химическая продукция | Продажи - Стр...</td>\n",
              "      <td>Производство ЛКМ приглашает менеджера по продв...</td>\n",
              "      <td>производство ЛКМ приглашать менеджер продвижен...</td>\n",
              "      <td>train</td>\n",
              "      <td>менеджер продвижение эпоксидный наливной пол п...</td>\n",
              "    </tr>\n",
              "    <tr>\n",
              "      <th>13517</th>\n",
              "      <td>17289192</td>\n",
              "      <td>Электромонтажник-сборщик щитового оборудования...</td>\n",
              "      <td>электромонтажник сборщик щитовой оборудование ГРЩ</td>\n",
              "      <td>Санкт-Петербург</td>\n",
              "      <td>Санкт-Петербург</td>\n",
              "      <td>232489</td>\n",
              "      <td>АРЕС</td>\n",
              "      <td>https://hh.ru/employer/232489</td>\n",
              "      <td>2017-01-23T15:42:52+0300</td>\n",
              "      <td>40000.0</td>\n",
              "      <td>RUR</td>\n",
              "      <td>full</td>\n",
              "      <td>Полная занятость</td>\n",
              "      <td>fullDay</td>\n",
              "      <td>Полный день</td>\n",
              "      <td>between1And3</td>\n",
              "      <td>От 1 года до 3 лет</td>\n",
              "      <td>NaN</td>\n",
              "      <td>29.560 29.515 29.581 18.360</td>\n",
              "      <td>Рабочий персонал - Электромонтер, Кабельщик | ...</td>\n",
              "      <td>Обязанности:   сборка низковольтного электрощи...</td>\n",
              "      <td>обязанность сборка низковольтный электрощитово...</td>\n",
              "      <td>train</td>\n",
              "      <td>электромонтажник сборщик щитовой оборудование ...</td>\n",
              "    </tr>\n",
              "    <tr>\n",
              "      <th>13519</th>\n",
              "      <td>17148803</td>\n",
              "      <td>Электромонтажник</td>\n",
              "      <td>электромонтажник</td>\n",
              "      <td>Санкт-Петербург</td>\n",
              "      <td>unknown</td>\n",
              "      <td>232489</td>\n",
              "      <td>АРЕС</td>\n",
              "      <td>https://hh.ru/employer/232489</td>\n",
              "      <td>2016-12-26T15:09:31+0300</td>\n",
              "      <td>60000.0</td>\n",
              "      <td>RUR</td>\n",
              "      <td>project</td>\n",
              "      <td>Проектная работа</td>\n",
              "      <td>fullDay</td>\n",
              "      <td>Полный день</td>\n",
              "      <td>between3And6</td>\n",
              "      <td>От 3 до 6 лет</td>\n",
              "      <td>NaN</td>\n",
              "      <td>29.560 29.515 29.581 20.387</td>\n",
              "      <td>Рабочий персонал - Электромонтер, Кабельщик | ...</td>\n",
              "      <td>Крупная электротехническая компания приглашает...</td>\n",
              "      <td>крупный электротехнический компания приглашать...</td>\n",
              "      <td>train</td>\n",
              "      <td>электромонтажник крупный электротехнический ко...</td>\n",
              "    </tr>\n",
              "  </tbody>\n",
              "</table>\n",
              "</div>"
            ],
            "text/plain": [
              "             id  ...                                              lemms\n",
              "index            ...                                                   \n",
              "13513  16830052  ...  менеджер продажа электротехнический продукция ...\n",
              "13514  13705065  ...  менеджер продвижение индустриальный ЛКМ произв...\n",
              "13515  17475725  ...  менеджер продвижение эпоксидный наливной пол п...\n",
              "13517  17289192  ...  электромонтажник сборщик щитовой оборудование ...\n",
              "13519  17148803  ...  электромонтажник крупный электротехнический ко...\n",
              "\n",
              "[5 rows x 24 columns]"
            ]
          },
          "metadata": {
            "tags": []
          },
          "execution_count": 19
        }
      ]
    },
    {
      "cell_type": "code",
      "metadata": {
        "id": "GZVW1HluH9Ye",
        "colab_type": "code",
        "colab": {
          "base_uri": "https://localhost:8080/",
          "height": 34
        },
        "outputId": "05668341-4b68-4efe-84ee-37cdec979bce"
      },
      "source": [
        "df_salaries.shape"
      ],
      "execution_count": null,
      "outputs": [
        {
          "output_type": "execute_result",
          "data": {
            "text/plain": [
              "(4438, 24)"
            ]
          },
          "metadata": {
            "tags": []
          },
          "execution_count": 20
        }
      ]
    },
    {
      "cell_type": "code",
      "metadata": {
        "id": "femfptRx4JsF",
        "colab_type": "code",
        "colab": {
          "base_uri": "https://localhost:8080/",
          "height": 54
        },
        "outputId": "b1b7f8bf-64ce-4536-b816-254ce38bda07"
      },
      "source": [
        "sentences=[add_CLS_SEP(x) for x in list(df_salaries['lemms'])]  #make txt\n",
        "print(sentences[1])"
      ],
      "execution_count": null,
      "outputs": [
        {
          "output_type": "stream",
          "text": [
            "[CLS] менеджер продвижение индустриальный лкм производство лкм приглашать менеджер продвижение индустриальный лакокрасочный материал требование опыт продажа аналогичный продукция обязанность поиск клиент работа проектный организация конечный заказчик координация исполнение проект работа исполнитель условие месторасположение ладожский график работа оплата зависимость результат работа [SEP]\n"
          ],
          "name": "stdout"
        }
      ]
    },
    {
      "cell_type": "code",
      "metadata": {
        "id": "Rej7KPGZRQpx",
        "colab_type": "code",
        "colab": {
          "base_uri": "https://localhost:8080/",
          "height": 34
        },
        "outputId": "61d871d7-a392-4a34-abd4-f75d9613e875"
      },
      "source": [
        "len(sentences)"
      ],
      "execution_count": null,
      "outputs": [
        {
          "output_type": "execute_result",
          "data": {
            "text/plain": [
              "4438"
            ]
          },
          "metadata": {
            "tags": []
          },
          "execution_count": 22
        }
      ]
    },
    {
      "cell_type": "code",
      "metadata": {
        "id": "x1tDK1VPEmCY",
        "colab_type": "code",
        "colab": {
          "base_uri": "https://localhost:8080/",
          "height": 134
        },
        "outputId": "8583b1fc-ec54-49e0-9a24-d989c548c23a"
      },
      "source": [
        "df_y=df_salaries['company.id']\n",
        "df_y.head()"
      ],
      "execution_count": null,
      "outputs": [
        {
          "output_type": "execute_result",
          "data": {
            "text/plain": [
              "index\n",
              "13513    232489\n",
              "13514    232489\n",
              "13515    232489\n",
              "13517    232489\n",
              "13519    232489\n",
              "Name: company.id, dtype: int64"
            ]
          },
          "metadata": {
            "tags": []
          },
          "execution_count": 23
        }
      ]
    },
    {
      "cell_type": "code",
      "metadata": {
        "id": "n1aJKH8aRKgr",
        "colab_type": "code",
        "colab": {
          "base_uri": "https://localhost:8080/",
          "height": 34
        },
        "outputId": "8d311e11-bda9-49b4-f5f3-dfefa09a20da"
      },
      "source": [
        "le = LabelEncoder()\n",
        "df_y=le.fit_transform(df_y)\n",
        "#le.inverse_transform(y_pred)\n",
        "df_y"
      ],
      "execution_count": null,
      "outputs": [
        {
          "output_type": "execute_result",
          "data": {
            "text/plain": [
              "array([1, 1, 1, ..., 2, 2, 2])"
            ]
          },
          "metadata": {
            "tags": []
          },
          "execution_count": 28
        }
      ]
    },
    {
      "cell_type": "code",
      "metadata": {
        "id": "0YWgRt30RLae",
        "colab_type": "code",
        "colab": {
          "base_uri": "https://localhost:8080/",
          "height": 34
        },
        "outputId": "ce240594-650f-427e-be77-013947edef81"
      },
      "source": [
        "set_y=set(df_y)\n",
        "print(set_y)"
      ],
      "execution_count": null,
      "outputs": [
        {
          "output_type": "stream",
          "text": [
            "{0, 1, 2}\n"
          ],
          "name": "stdout"
        }
      ]
    },
    {
      "cell_type": "code",
      "metadata": {
        "id": "fANlG5GtEmtI",
        "colab_type": "code",
        "colab": {}
      },
      "source": [
        ""
      ],
      "execution_count": null,
      "outputs": []
    },
    {
      "cell_type": "code",
      "metadata": {
        "id": "n7XrS3qPL0IY",
        "colab_type": "code",
        "colab": {}
      },
      "source": [
        "#make onehot encoding for emploers\n",
        "#from sklearn.preprocessing import OneHotEncoder\n",
        "#y=pd.get_dummies(df_salaries['company.id'])\n",
        "#=df_salaries['company.id']\n",
        "#y.head()"
      ],
      "execution_count": null,
      "outputs": []
    },
    {
      "cell_type": "code",
      "metadata": {
        "id": "60p99QMUIiif",
        "colab_type": "code",
        "colab": {}
      },
      "source": [
        "#DIVIDE DATA TO TRAIN AND TEST\n",
        "train_sentences, test_sentences, train_gt, test_gt = train_test_split(sentences, \n",
        "                                                                      df_y, \n",
        "                                                                      test_size=0.5,random_state=RS)"
      ],
      "execution_count": null,
      "outputs": []
    },
    {
      "cell_type": "code",
      "metadata": {
        "id": "ZwQVpcwuS9L5",
        "colab_type": "code",
        "colab": {
          "base_uri": "https://localhost:8080/",
          "height": 34
        },
        "outputId": "627adcc7-45e6-43d8-e6a4-734c57ad6872"
      },
      "source": [
        "#создадим датафрейм в который запишем резушльтат работы алгоритма на тесте(валидация)\n",
        "len(train_gt)"
      ],
      "execution_count": null,
      "outputs": [
        {
          "output_type": "execute_result",
          "data": {
            "text/plain": [
              "2219"
            ]
          },
          "metadata": {
            "tags": []
          },
          "execution_count": 33
        }
      ]
    },
    {
      "cell_type": "code",
      "metadata": {
        "id": "c3KNkW2YaF5D",
        "colab_type": "code",
        "colab": {
          "base_uri": "https://localhost:8080/",
          "height": 195
        },
        "outputId": "5aac439b-4c8a-4786-d3b4-2c9aec8c2311"
      },
      "source": [
        "df_test=pd.DataFrame(np.random.rand(2219,1),columns=['random'])\n",
        "df_test.head()"
      ],
      "execution_count": null,
      "outputs": [
        {
          "output_type": "execute_result",
          "data": {
            "text/html": [
              "<div>\n",
              "<style scoped>\n",
              "    .dataframe tbody tr th:only-of-type {\n",
              "        vertical-align: middle;\n",
              "    }\n",
              "\n",
              "    .dataframe tbody tr th {\n",
              "        vertical-align: top;\n",
              "    }\n",
              "\n",
              "    .dataframe thead th {\n",
              "        text-align: right;\n",
              "    }\n",
              "</style>\n",
              "<table border=\"1\" class=\"dataframe\">\n",
              "  <thead>\n",
              "    <tr style=\"text-align: right;\">\n",
              "      <th></th>\n",
              "      <th>random</th>\n",
              "    </tr>\n",
              "  </thead>\n",
              "  <tbody>\n",
              "    <tr>\n",
              "      <th>0</th>\n",
              "      <td>0.710972</td>\n",
              "    </tr>\n",
              "    <tr>\n",
              "      <th>1</th>\n",
              "      <td>0.490861</td>\n",
              "    </tr>\n",
              "    <tr>\n",
              "      <th>2</th>\n",
              "      <td>0.592231</td>\n",
              "    </tr>\n",
              "    <tr>\n",
              "      <th>3</th>\n",
              "      <td>0.199814</td>\n",
              "    </tr>\n",
              "    <tr>\n",
              "      <th>4</th>\n",
              "      <td>0.892183</td>\n",
              "    </tr>\n",
              "  </tbody>\n",
              "</table>\n",
              "</div>"
            ],
            "text/plain": [
              "     random\n",
              "0  0.710972\n",
              "1  0.490861\n",
              "2  0.592231\n",
              "3  0.199814\n",
              "4  0.892183"
            ]
          },
          "metadata": {
            "tags": []
          },
          "execution_count": 34
        }
      ]
    },
    {
      "cell_type": "code",
      "metadata": {
        "id": "4YrgKHTua3zM",
        "colab_type": "code",
        "colab": {
          "base_uri": "https://localhost:8080/",
          "height": 195
        },
        "outputId": "7904fc89-8cbd-4814-dbca-e735d4f877c0"
      },
      "source": [
        "df_test['sentenses']= test_sentences\n",
        "df_test.head()"
      ],
      "execution_count": null,
      "outputs": [
        {
          "output_type": "execute_result",
          "data": {
            "text/html": [
              "<div>\n",
              "<style scoped>\n",
              "    .dataframe tbody tr th:only-of-type {\n",
              "        vertical-align: middle;\n",
              "    }\n",
              "\n",
              "    .dataframe tbody tr th {\n",
              "        vertical-align: top;\n",
              "    }\n",
              "\n",
              "    .dataframe thead th {\n",
              "        text-align: right;\n",
              "    }\n",
              "</style>\n",
              "<table border=\"1\" class=\"dataframe\">\n",
              "  <thead>\n",
              "    <tr style=\"text-align: right;\">\n",
              "      <th></th>\n",
              "      <th>random</th>\n",
              "      <th>sentenses</th>\n",
              "    </tr>\n",
              "  </thead>\n",
              "  <tbody>\n",
              "    <tr>\n",
              "      <th>0</th>\n",
              "      <td>0.710972</td>\n",
              "      <td>[CLS] модельер конструктор обязанность констру...</td>\n",
              "    </tr>\n",
              "    <tr>\n",
              "      <th>1</th>\n",
              "      <td>0.490861</td>\n",
              "      <td>[CLS] оператор call центр должностной обязанно...</td>\n",
              "    </tr>\n",
              "    <tr>\n",
              "      <th>2</th>\n",
              "      <td>0.592231</td>\n",
              "      <td>[CLS] ведущий менеджер тендер крупный компания...</td>\n",
              "    </tr>\n",
              "    <tr>\n",
              "      <th>3</th>\n",
              "      <td>0.199814</td>\n",
              "      <td>[CLS] продавец мобильный техника приморский пр...</td>\n",
              "    </tr>\n",
              "    <tr>\n",
              "      <th>4</th>\n",
              "      <td>0.892183</td>\n",
              "      <td>[CLS] работник торговый зал должностной обязан...</td>\n",
              "    </tr>\n",
              "  </tbody>\n",
              "</table>\n",
              "</div>"
            ],
            "text/plain": [
              "     random                                          sentenses\n",
              "0  0.710972  [CLS] модельер конструктор обязанность констру...\n",
              "1  0.490861  [CLS] оператор call центр должностной обязанно...\n",
              "2  0.592231  [CLS] ведущий менеджер тендер крупный компания...\n",
              "3  0.199814  [CLS] продавец мобильный техника приморский пр...\n",
              "4  0.892183  [CLS] работник торговый зал должностной обязан..."
            ]
          },
          "metadata": {
            "tags": []
          },
          "execution_count": 35
        }
      ]
    },
    {
      "cell_type": "code",
      "metadata": {
        "id": "tb3_0YW4bL2G",
        "colab_type": "code",
        "colab": {
          "base_uri": "https://localhost:8080/",
          "height": 195
        },
        "outputId": "d5152148-1051-44b1-ab66-47dfbc0a7f11"
      },
      "source": [
        "df_test['y_encoded']= test_gt\n",
        "df_test.head()"
      ],
      "execution_count": null,
      "outputs": [
        {
          "output_type": "execute_result",
          "data": {
            "text/html": [
              "<div>\n",
              "<style scoped>\n",
              "    .dataframe tbody tr th:only-of-type {\n",
              "        vertical-align: middle;\n",
              "    }\n",
              "\n",
              "    .dataframe tbody tr th {\n",
              "        vertical-align: top;\n",
              "    }\n",
              "\n",
              "    .dataframe thead th {\n",
              "        text-align: right;\n",
              "    }\n",
              "</style>\n",
              "<table border=\"1\" class=\"dataframe\">\n",
              "  <thead>\n",
              "    <tr style=\"text-align: right;\">\n",
              "      <th></th>\n",
              "      <th>random</th>\n",
              "      <th>sentenses</th>\n",
              "      <th>y_encoded</th>\n",
              "    </tr>\n",
              "  </thead>\n",
              "  <tbody>\n",
              "    <tr>\n",
              "      <th>0</th>\n",
              "      <td>0.710972</td>\n",
              "      <td>[CLS] модельер конструктор обязанность констру...</td>\n",
              "      <td>2</td>\n",
              "    </tr>\n",
              "    <tr>\n",
              "      <th>1</th>\n",
              "      <td>0.490861</td>\n",
              "      <td>[CLS] оператор call центр должностной обязанно...</td>\n",
              "      <td>2</td>\n",
              "    </tr>\n",
              "    <tr>\n",
              "      <th>2</th>\n",
              "      <td>0.592231</td>\n",
              "      <td>[CLS] ведущий менеджер тендер крупный компания...</td>\n",
              "      <td>1</td>\n",
              "    </tr>\n",
              "    <tr>\n",
              "      <th>3</th>\n",
              "      <td>0.199814</td>\n",
              "      <td>[CLS] продавец мобильный техника приморский пр...</td>\n",
              "      <td>0</td>\n",
              "    </tr>\n",
              "    <tr>\n",
              "      <th>4</th>\n",
              "      <td>0.892183</td>\n",
              "      <td>[CLS] работник торговый зал должностной обязан...</td>\n",
              "      <td>0</td>\n",
              "    </tr>\n",
              "  </tbody>\n",
              "</table>\n",
              "</div>"
            ],
            "text/plain": [
              "     random                                          sentenses  y_encoded\n",
              "0  0.710972  [CLS] модельер конструктор обязанность констру...          2\n",
              "1  0.490861  [CLS] оператор call центр должностной обязанно...          2\n",
              "2  0.592231  [CLS] ведущий менеджер тендер крупный компания...          1\n",
              "3  0.199814  [CLS] продавец мобильный техника приморский пр...          0\n",
              "4  0.892183  [CLS] работник торговый зал должностной обязан...          0"
            ]
          },
          "metadata": {
            "tags": []
          },
          "execution_count": 36
        }
      ]
    },
    {
      "cell_type": "code",
      "metadata": {
        "id": "vWTExeYRRkVG",
        "colab_type": "code",
        "colab": {
          "base_uri": "https://localhost:8080/",
          "height": 70
        },
        "outputId": "37875cbb-a383-473a-95f6-c6d60c4651ac"
      },
      "source": [
        "from pytorch_transformers import BertTokenizer, BertConfig\n",
        "#МЫ ИСПОЛЬЗУЕМ bert-uncased что значит что он заточен под работу со словами в нижнем регистре\n",
        "tokenizer = BertTokenizer.from_pretrained('bert-base-uncased', do_lower_case=True)\n",
        "\n",
        "tokenized_texts = [tokenizer.tokenize(sent) for sent in train_sentences]\n",
        "print (tokenized_texts[0])"
      ],
      "execution_count": null,
      "outputs": [
        {
          "output_type": "stream",
          "text": [
            "100%|██████████| 231508/231508 [00:00<00:00, 855988.10B/s]\n"
          ],
          "name": "stderr"
        },
        {
          "output_type": "stream",
          "text": [
            "['[CLS]', 'ш', '##в', '##е', '##и', '##ц', '##а', '##р', 'о', '##б', '##я', '##з', '##ан', '##н', '##о', '##с', '##т', '##ь', 'в', '##с', '##т', '##р', '##е', '##ч', '##а', 'г', '##о', '##с', '##т', '##ь', 'в', '##х', '##о', '##д', 'г', '##о', '##с', '##т', '##и', '##н', '##и', '##ц', '##а', 'п', '##о', '##м', '##о', '##щ', '##ь', 'б', '##а', '##г', '##а', '##ж', 'с', '##о', '##п', '##р', '##ов', '##о', '##ж', '##д', '##е', '##н', '##и', '##е', 'г', '##о', '##с', '##т', '##ь', 'т', '##а', '##к', '##с', '##и', 'т', '##р', '##е', '##б', '##ов', '##ан', '##и', '##е', 'к', '##о', '##м', '##м', '##у', '##н', '##и', '##ка', '##б', '##е', '##л', '##ь', '##н', '##о', '##с', '##т', '##ь', 'д', '##о', '##б', '##р', '##о', '##ж', '##е', '##л', '##а', '##т', '##е', '##л', '##ь', '##н', '##о', '##с', '##т', '##ь', 'в', '##е', '##ж', '##л', '##и', '##в', '##о', '##с', '##т', '##ь', 'о', '##т', '##в', '##е', '##т', '##с', '##т', '##в', '##е', '##н', '##н', '##ы', '##и', 'о', '##т', '##н', '##о', '##ш', '##е', '##н', '##и', '##е', 'р', '##а', '##б', '##о', '##т', '##а', 'г', '##р', '##а', '##м', '##о', '##т', '##н', '##ы', '##и', 'р', '##е', '##ч', '##ь', 'о', '##б', '##я', '##з', '##а', '##т', '##е', '##л', '##ь', '##н', '##о', 'з', '##на', '##н', '##и', '##е', 'а', '##н', '##г', '##л', '##ии', '##с', '##к', '##ии', 'я', '##з', '##ы', '##к', 'у', '##с', '##л', '##ов', '##и', '##е', 'г', '##р', '##а', '##ф', '##и', '##к', 'р', '##а', '##б', '##о', '##т', '##а', 'ч', '##а', '##с', 'з', '##а', '##р', '##а', '##б', '##о', '##т', '##н', '##ы', '##и', 'п', '##л', '##а', '##т', '##а', 'р', '##а', '##б', '##о', '##т', '##а', 'п', '##е', '##ш', '##ии', 'д', '##о', '##с', '##т', '##у', '##п', '##н', '##о', '##с', '##т', '##ь', 'м', '##е', '##т', '##р', '##о', 'м', '##а', '##я', '##к', '##ов', '##с', '##ка', '##я', 'п', '##и', '##т', '##ан', '##и', '##е', 'ф', '##о', '##р', '##м', '##а', 'п', '##р', '##е', '##д', '##о', '##с', '##т', '##а', '##в', '##л', '##я', '##т', '##ь', '##с', '##я', 'б', '##е', '##с', '##п', '##л', '##а', '##т', '##н', '##о', 'п', '##р', '##ов', '##о', '##д', '##и', '##т', '##ь', '##с', '##я', 'о', '##б', '##у', '##ч', '##е', '##н', '##и', '##е', 'с', '##ч', '##е', '##т', 'к', '##о', '##м', '##п', '##ан', '##ия', 'д', '##р', '##у', '##ж', '##н', '##ы', '##и', 'к', '##о', '##л', '##л', '##е', '##к', '##т', '##и', '##в', 'в', '##о', '##з', '##м', '##о', '##ж', '##н', '##о', '##с', '##т', '##ь', 'к', '##а', '##р', '##ь', '##е', '##р', '##н', '##ы', '##и', 'р', '##о', '##с', '##т', '[SEP]']\n"
          ],
          "name": "stdout"
        }
      ]
    },
    {
      "cell_type": "markdown",
      "metadata": {
        "id": "bIztKGK-R1nn",
        "colab_type": "text"
      },
      "source": [
        "BERTу нужно предоставить специальный формат входных данных.\n",
        "\n",
        "\n",
        "- **input ids**: последовательность чисел, отождествляющих каждый токен с его номером в словаре.\n",
        "- **labels**: вектор из нулей и единиц. В нашем случае нули обозначают негативную эмоциональную окраску, единицы - положительную.\n",
        "- **segment mask**: (необязательно) последовательность нулей и единиц, которая показывает, состоит ли входной текст из одного или двух предложений. Для случая одного предложения получится вектор из одних нулей. Для двух: <length_of_sent_1> нулей и <length_of_sent_2> единиц.\n",
        "- **attention mask**: (необязательно) последовательность нулей и единиц, где единицы обозначают токены предложения, нули - паддинг."
      ]
    },
    {
      "cell_type": "code",
      "metadata": {
        "id": "OJoyYHo2Ii67",
        "colab_type": "code",
        "colab": {
          "base_uri": "https://localhost:8080/",
          "height": 50
        },
        "outputId": "b88060d2-8690-4ff1-f37c-f6106cea6106"
      },
      "source": [
        "%%time\n",
        "input_ids = [tokenizer.convert_tokens_to_ids(x) for x in tokenized_texts]\n",
        "input_ids = pad_sequences(\n",
        "    input_ids,\n",
        "    maxlen=100,\n",
        "    dtype=\"long\",\n",
        "    truncating=\"post\",\n",
        "    padding=\"post\"\n",
        ")"
      ],
      "execution_count": null,
      "outputs": [
        {
          "output_type": "stream",
          "text": [
            "CPU times: user 668 ms, sys: 34 µs, total: 668 ms\n",
            "Wall time: 667 ms\n"
          ],
          "name": "stdout"
        }
      ]
    },
    {
      "cell_type": "code",
      "metadata": {
        "id": "nClFc6WEWA-l",
        "colab_type": "code",
        "colab": {}
      },
      "source": [
        "attention_masks = [[float(i>0) for i in seq] for seq in input_ids]\n",
        "\n",
        "train_inputs, validation_inputs, train_labels, validation_labels = train_test_split(\n",
        "    input_ids, train_gt, \n",
        "    random_state=RS,\n",
        "    test_size=0.2\n",
        ")"
      ],
      "execution_count": null,
      "outputs": []
    },
    {
      "cell_type": "code",
      "metadata": {
        "id": "9qWRW0oUWHjC",
        "colab_type": "code",
        "colab": {}
      },
      "source": [
        "train_masks, validation_masks, _, _ = train_test_split(\n",
        "    attention_masks,\n",
        "    input_ids,\n",
        "    random_state=RS,\n",
        "    test_size=0.2\n",
        ")"
      ],
      "execution_count": null,
      "outputs": []
    },
    {
      "cell_type": "code",
      "metadata": {
        "id": "oeEmpvfiIjcm",
        "colab_type": "code",
        "colab": {
          "base_uri": "https://localhost:8080/",
          "height": 70
        },
        "outputId": "5a8068ba-d734-4396-bc00-c459d1352519"
      },
      "source": [
        "train_inputs = torch.tensor(train_inputs)\n",
        "train_labels = torch.tensor(train_labels)\n",
        "train_masks = torch.tensor(train_masks)"
      ],
      "execution_count": null,
      "outputs": [
        {
          "output_type": "stream",
          "text": [
            "/usr/local/lib/python3.6/dist-packages/ipykernel_launcher.py:1: UserWarning: To copy construct from a tensor, it is recommended to use sourceTensor.clone().detach() or sourceTensor.clone().detach().requires_grad_(True), rather than torch.tensor(sourceTensor).\n",
            "  \"\"\"Entry point for launching an IPython kernel.\n"
          ],
          "name": "stderr"
        }
      ]
    },
    {
      "cell_type": "code",
      "metadata": {
        "id": "493mEBGpJaoX",
        "colab_type": "code",
        "colab": {
          "base_uri": "https://localhost:8080/",
          "height": 34
        },
        "outputId": "8499cc55-8f77-422f-dddc-31043eecbcc8"
      },
      "source": [
        "validation_inputs = torch.tensor(validation_inputs)\n",
        "validation_labels = torch.tensor(validation_labels)\n",
        "validation_masks = torch.tensor(validation_masks)\n",
        "\n",
        "train_labels"
      ],
      "execution_count": null,
      "outputs": [
        {
          "output_type": "execute_result",
          "data": {
            "text/plain": [
              "tensor([2, 0, 2,  ..., 2, 2, 2])"
            ]
          },
          "metadata": {
            "tags": []
          },
          "execution_count": 43
        }
      ]
    },
    {
      "cell_type": "code",
      "metadata": {
        "id": "CuEYgJDOJ5LO",
        "colab_type": "code",
        "colab": {}
      },
      "source": [
        "train_data = TensorDataset(train_inputs, train_masks, train_labels)\n",
        "train_dataloader = DataLoader(\n",
        "    train_data,\n",
        "    sampler=RandomSampler(train_data),\n",
        "    batch_size=32\n",
        ")"
      ],
      "execution_count": null,
      "outputs": []
    },
    {
      "cell_type": "code",
      "metadata": {
        "id": "cQUd4PrQKBki",
        "colab_type": "code",
        "colab": {}
      },
      "source": [
        "validation_data = TensorDataset(validation_inputs, validation_masks, validation_labels)\n",
        "validation_dataloader = DataLoader(\n",
        "    validation_data,\n",
        "    sampler=SequentialSampler(validation_data),\n",
        "    batch_size=32\n",
        ")"
      ],
      "execution_count": null,
      "outputs": []
    },
    {
      "cell_type": "markdown",
      "metadata": {
        "id": "55LDjQ6bKQVA",
        "colab_type": "text"
      },
      "source": [
        "## Обучение модели\n",
        "\n",
        "Загружаем [BertForSequenceClassification](https://github.com/huggingface/pytorch-pretrained-BERT/blob/master/pytorch_pretrained_bert/modeling.py#L1129):"
      ]
    },
    {
      "cell_type": "code",
      "metadata": {
        "id": "xyRCCdIAKH16",
        "colab_type": "code",
        "colab": {}
      },
      "source": [
        "from pytorch_transformers import AdamW, BertForSequenceClassification"
      ],
      "execution_count": null,
      "outputs": []
    },
    {
      "cell_type": "code",
      "metadata": {
        "id": "-UlB7Cy6KXU-",
        "colab_type": "code",
        "colab": {
          "base_uri": "https://localhost:8080/",
          "height": 1000
        },
        "outputId": "524a4021-98a6-4942-f562-f81455d8d9ea"
      },
      "source": [
        "from pytorch_transformers import BertForQuestionAnswering, BertForTokenClassification\n",
        "\n",
        "model = BertForSequenceClassification.from_pretrained(\"bert-base-uncased\", num_labels=3)\n",
        "model.cuda()"
      ],
      "execution_count": null,
      "outputs": [
        {
          "output_type": "stream",
          "text": [
            "100%|██████████| 433/433 [00:00<00:00, 224158.68B/s]\n",
            "100%|██████████| 440473133/440473133 [00:12<00:00, 35068112.54B/s]\n"
          ],
          "name": "stderr"
        },
        {
          "output_type": "execute_result",
          "data": {
            "text/plain": [
              "BertForSequenceClassification(\n",
              "  (bert): BertModel(\n",
              "    (embeddings): BertEmbeddings(\n",
              "      (word_embeddings): Embedding(30522, 768, padding_idx=0)\n",
              "      (position_embeddings): Embedding(512, 768)\n",
              "      (token_type_embeddings): Embedding(2, 768)\n",
              "      (LayerNorm): LayerNorm((768,), eps=1e-12, elementwise_affine=True)\n",
              "      (dropout): Dropout(p=0.1, inplace=False)\n",
              "    )\n",
              "    (encoder): BertEncoder(\n",
              "      (layer): ModuleList(\n",
              "        (0): BertLayer(\n",
              "          (attention): BertAttention(\n",
              "            (self): BertSelfAttention(\n",
              "              (query): Linear(in_features=768, out_features=768, bias=True)\n",
              "              (key): Linear(in_features=768, out_features=768, bias=True)\n",
              "              (value): Linear(in_features=768, out_features=768, bias=True)\n",
              "              (dropout): Dropout(p=0.1, inplace=False)\n",
              "            )\n",
              "            (output): BertSelfOutput(\n",
              "              (dense): Linear(in_features=768, out_features=768, bias=True)\n",
              "              (LayerNorm): LayerNorm((768,), eps=1e-12, elementwise_affine=True)\n",
              "              (dropout): Dropout(p=0.1, inplace=False)\n",
              "            )\n",
              "          )\n",
              "          (intermediate): BertIntermediate(\n",
              "            (dense): Linear(in_features=768, out_features=3072, bias=True)\n",
              "          )\n",
              "          (output): BertOutput(\n",
              "            (dense): Linear(in_features=3072, out_features=768, bias=True)\n",
              "            (LayerNorm): LayerNorm((768,), eps=1e-12, elementwise_affine=True)\n",
              "            (dropout): Dropout(p=0.1, inplace=False)\n",
              "          )\n",
              "        )\n",
              "        (1): BertLayer(\n",
              "          (attention): BertAttention(\n",
              "            (self): BertSelfAttention(\n",
              "              (query): Linear(in_features=768, out_features=768, bias=True)\n",
              "              (key): Linear(in_features=768, out_features=768, bias=True)\n",
              "              (value): Linear(in_features=768, out_features=768, bias=True)\n",
              "              (dropout): Dropout(p=0.1, inplace=False)\n",
              "            )\n",
              "            (output): BertSelfOutput(\n",
              "              (dense): Linear(in_features=768, out_features=768, bias=True)\n",
              "              (LayerNorm): LayerNorm((768,), eps=1e-12, elementwise_affine=True)\n",
              "              (dropout): Dropout(p=0.1, inplace=False)\n",
              "            )\n",
              "          )\n",
              "          (intermediate): BertIntermediate(\n",
              "            (dense): Linear(in_features=768, out_features=3072, bias=True)\n",
              "          )\n",
              "          (output): BertOutput(\n",
              "            (dense): Linear(in_features=3072, out_features=768, bias=True)\n",
              "            (LayerNorm): LayerNorm((768,), eps=1e-12, elementwise_affine=True)\n",
              "            (dropout): Dropout(p=0.1, inplace=False)\n",
              "          )\n",
              "        )\n",
              "        (2): BertLayer(\n",
              "          (attention): BertAttention(\n",
              "            (self): BertSelfAttention(\n",
              "              (query): Linear(in_features=768, out_features=768, bias=True)\n",
              "              (key): Linear(in_features=768, out_features=768, bias=True)\n",
              "              (value): Linear(in_features=768, out_features=768, bias=True)\n",
              "              (dropout): Dropout(p=0.1, inplace=False)\n",
              "            )\n",
              "            (output): BertSelfOutput(\n",
              "              (dense): Linear(in_features=768, out_features=768, bias=True)\n",
              "              (LayerNorm): LayerNorm((768,), eps=1e-12, elementwise_affine=True)\n",
              "              (dropout): Dropout(p=0.1, inplace=False)\n",
              "            )\n",
              "          )\n",
              "          (intermediate): BertIntermediate(\n",
              "            (dense): Linear(in_features=768, out_features=3072, bias=True)\n",
              "          )\n",
              "          (output): BertOutput(\n",
              "            (dense): Linear(in_features=3072, out_features=768, bias=True)\n",
              "            (LayerNorm): LayerNorm((768,), eps=1e-12, elementwise_affine=True)\n",
              "            (dropout): Dropout(p=0.1, inplace=False)\n",
              "          )\n",
              "        )\n",
              "        (3): BertLayer(\n",
              "          (attention): BertAttention(\n",
              "            (self): BertSelfAttention(\n",
              "              (query): Linear(in_features=768, out_features=768, bias=True)\n",
              "              (key): Linear(in_features=768, out_features=768, bias=True)\n",
              "              (value): Linear(in_features=768, out_features=768, bias=True)\n",
              "              (dropout): Dropout(p=0.1, inplace=False)\n",
              "            )\n",
              "            (output): BertSelfOutput(\n",
              "              (dense): Linear(in_features=768, out_features=768, bias=True)\n",
              "              (LayerNorm): LayerNorm((768,), eps=1e-12, elementwise_affine=True)\n",
              "              (dropout): Dropout(p=0.1, inplace=False)\n",
              "            )\n",
              "          )\n",
              "          (intermediate): BertIntermediate(\n",
              "            (dense): Linear(in_features=768, out_features=3072, bias=True)\n",
              "          )\n",
              "          (output): BertOutput(\n",
              "            (dense): Linear(in_features=3072, out_features=768, bias=True)\n",
              "            (LayerNorm): LayerNorm((768,), eps=1e-12, elementwise_affine=True)\n",
              "            (dropout): Dropout(p=0.1, inplace=False)\n",
              "          )\n",
              "        )\n",
              "        (4): BertLayer(\n",
              "          (attention): BertAttention(\n",
              "            (self): BertSelfAttention(\n",
              "              (query): Linear(in_features=768, out_features=768, bias=True)\n",
              "              (key): Linear(in_features=768, out_features=768, bias=True)\n",
              "              (value): Linear(in_features=768, out_features=768, bias=True)\n",
              "              (dropout): Dropout(p=0.1, inplace=False)\n",
              "            )\n",
              "            (output): BertSelfOutput(\n",
              "              (dense): Linear(in_features=768, out_features=768, bias=True)\n",
              "              (LayerNorm): LayerNorm((768,), eps=1e-12, elementwise_affine=True)\n",
              "              (dropout): Dropout(p=0.1, inplace=False)\n",
              "            )\n",
              "          )\n",
              "          (intermediate): BertIntermediate(\n",
              "            (dense): Linear(in_features=768, out_features=3072, bias=True)\n",
              "          )\n",
              "          (output): BertOutput(\n",
              "            (dense): Linear(in_features=3072, out_features=768, bias=True)\n",
              "            (LayerNorm): LayerNorm((768,), eps=1e-12, elementwise_affine=True)\n",
              "            (dropout): Dropout(p=0.1, inplace=False)\n",
              "          )\n",
              "        )\n",
              "        (5): BertLayer(\n",
              "          (attention): BertAttention(\n",
              "            (self): BertSelfAttention(\n",
              "              (query): Linear(in_features=768, out_features=768, bias=True)\n",
              "              (key): Linear(in_features=768, out_features=768, bias=True)\n",
              "              (value): Linear(in_features=768, out_features=768, bias=True)\n",
              "              (dropout): Dropout(p=0.1, inplace=False)\n",
              "            )\n",
              "            (output): BertSelfOutput(\n",
              "              (dense): Linear(in_features=768, out_features=768, bias=True)\n",
              "              (LayerNorm): LayerNorm((768,), eps=1e-12, elementwise_affine=True)\n",
              "              (dropout): Dropout(p=0.1, inplace=False)\n",
              "            )\n",
              "          )\n",
              "          (intermediate): BertIntermediate(\n",
              "            (dense): Linear(in_features=768, out_features=3072, bias=True)\n",
              "          )\n",
              "          (output): BertOutput(\n",
              "            (dense): Linear(in_features=3072, out_features=768, bias=True)\n",
              "            (LayerNorm): LayerNorm((768,), eps=1e-12, elementwise_affine=True)\n",
              "            (dropout): Dropout(p=0.1, inplace=False)\n",
              "          )\n",
              "        )\n",
              "        (6): BertLayer(\n",
              "          (attention): BertAttention(\n",
              "            (self): BertSelfAttention(\n",
              "              (query): Linear(in_features=768, out_features=768, bias=True)\n",
              "              (key): Linear(in_features=768, out_features=768, bias=True)\n",
              "              (value): Linear(in_features=768, out_features=768, bias=True)\n",
              "              (dropout): Dropout(p=0.1, inplace=False)\n",
              "            )\n",
              "            (output): BertSelfOutput(\n",
              "              (dense): Linear(in_features=768, out_features=768, bias=True)\n",
              "              (LayerNorm): LayerNorm((768,), eps=1e-12, elementwise_affine=True)\n",
              "              (dropout): Dropout(p=0.1, inplace=False)\n",
              "            )\n",
              "          )\n",
              "          (intermediate): BertIntermediate(\n",
              "            (dense): Linear(in_features=768, out_features=3072, bias=True)\n",
              "          )\n",
              "          (output): BertOutput(\n",
              "            (dense): Linear(in_features=3072, out_features=768, bias=True)\n",
              "            (LayerNorm): LayerNorm((768,), eps=1e-12, elementwise_affine=True)\n",
              "            (dropout): Dropout(p=0.1, inplace=False)\n",
              "          )\n",
              "        )\n",
              "        (7): BertLayer(\n",
              "          (attention): BertAttention(\n",
              "            (self): BertSelfAttention(\n",
              "              (query): Linear(in_features=768, out_features=768, bias=True)\n",
              "              (key): Linear(in_features=768, out_features=768, bias=True)\n",
              "              (value): Linear(in_features=768, out_features=768, bias=True)\n",
              "              (dropout): Dropout(p=0.1, inplace=False)\n",
              "            )\n",
              "            (output): BertSelfOutput(\n",
              "              (dense): Linear(in_features=768, out_features=768, bias=True)\n",
              "              (LayerNorm): LayerNorm((768,), eps=1e-12, elementwise_affine=True)\n",
              "              (dropout): Dropout(p=0.1, inplace=False)\n",
              "            )\n",
              "          )\n",
              "          (intermediate): BertIntermediate(\n",
              "            (dense): Linear(in_features=768, out_features=3072, bias=True)\n",
              "          )\n",
              "          (output): BertOutput(\n",
              "            (dense): Linear(in_features=3072, out_features=768, bias=True)\n",
              "            (LayerNorm): LayerNorm((768,), eps=1e-12, elementwise_affine=True)\n",
              "            (dropout): Dropout(p=0.1, inplace=False)\n",
              "          )\n",
              "        )\n",
              "        (8): BertLayer(\n",
              "          (attention): BertAttention(\n",
              "            (self): BertSelfAttention(\n",
              "              (query): Linear(in_features=768, out_features=768, bias=True)\n",
              "              (key): Linear(in_features=768, out_features=768, bias=True)\n",
              "              (value): Linear(in_features=768, out_features=768, bias=True)\n",
              "              (dropout): Dropout(p=0.1, inplace=False)\n",
              "            )\n",
              "            (output): BertSelfOutput(\n",
              "              (dense): Linear(in_features=768, out_features=768, bias=True)\n",
              "              (LayerNorm): LayerNorm((768,), eps=1e-12, elementwise_affine=True)\n",
              "              (dropout): Dropout(p=0.1, inplace=False)\n",
              "            )\n",
              "          )\n",
              "          (intermediate): BertIntermediate(\n",
              "            (dense): Linear(in_features=768, out_features=3072, bias=True)\n",
              "          )\n",
              "          (output): BertOutput(\n",
              "            (dense): Linear(in_features=3072, out_features=768, bias=True)\n",
              "            (LayerNorm): LayerNorm((768,), eps=1e-12, elementwise_affine=True)\n",
              "            (dropout): Dropout(p=0.1, inplace=False)\n",
              "          )\n",
              "        )\n",
              "        (9): BertLayer(\n",
              "          (attention): BertAttention(\n",
              "            (self): BertSelfAttention(\n",
              "              (query): Linear(in_features=768, out_features=768, bias=True)\n",
              "              (key): Linear(in_features=768, out_features=768, bias=True)\n",
              "              (value): Linear(in_features=768, out_features=768, bias=True)\n",
              "              (dropout): Dropout(p=0.1, inplace=False)\n",
              "            )\n",
              "            (output): BertSelfOutput(\n",
              "              (dense): Linear(in_features=768, out_features=768, bias=True)\n",
              "              (LayerNorm): LayerNorm((768,), eps=1e-12, elementwise_affine=True)\n",
              "              (dropout): Dropout(p=0.1, inplace=False)\n",
              "            )\n",
              "          )\n",
              "          (intermediate): BertIntermediate(\n",
              "            (dense): Linear(in_features=768, out_features=3072, bias=True)\n",
              "          )\n",
              "          (output): BertOutput(\n",
              "            (dense): Linear(in_features=3072, out_features=768, bias=True)\n",
              "            (LayerNorm): LayerNorm((768,), eps=1e-12, elementwise_affine=True)\n",
              "            (dropout): Dropout(p=0.1, inplace=False)\n",
              "          )\n",
              "        )\n",
              "        (10): BertLayer(\n",
              "          (attention): BertAttention(\n",
              "            (self): BertSelfAttention(\n",
              "              (query): Linear(in_features=768, out_features=768, bias=True)\n",
              "              (key): Linear(in_features=768, out_features=768, bias=True)\n",
              "              (value): Linear(in_features=768, out_features=768, bias=True)\n",
              "              (dropout): Dropout(p=0.1, inplace=False)\n",
              "            )\n",
              "            (output): BertSelfOutput(\n",
              "              (dense): Linear(in_features=768, out_features=768, bias=True)\n",
              "              (LayerNorm): LayerNorm((768,), eps=1e-12, elementwise_affine=True)\n",
              "              (dropout): Dropout(p=0.1, inplace=False)\n",
              "            )\n",
              "          )\n",
              "          (intermediate): BertIntermediate(\n",
              "            (dense): Linear(in_features=768, out_features=3072, bias=True)\n",
              "          )\n",
              "          (output): BertOutput(\n",
              "            (dense): Linear(in_features=3072, out_features=768, bias=True)\n",
              "            (LayerNorm): LayerNorm((768,), eps=1e-12, elementwise_affine=True)\n",
              "            (dropout): Dropout(p=0.1, inplace=False)\n",
              "          )\n",
              "        )\n",
              "        (11): BertLayer(\n",
              "          (attention): BertAttention(\n",
              "            (self): BertSelfAttention(\n",
              "              (query): Linear(in_features=768, out_features=768, bias=True)\n",
              "              (key): Linear(in_features=768, out_features=768, bias=True)\n",
              "              (value): Linear(in_features=768, out_features=768, bias=True)\n",
              "              (dropout): Dropout(p=0.1, inplace=False)\n",
              "            )\n",
              "            (output): BertSelfOutput(\n",
              "              (dense): Linear(in_features=768, out_features=768, bias=True)\n",
              "              (LayerNorm): LayerNorm((768,), eps=1e-12, elementwise_affine=True)\n",
              "              (dropout): Dropout(p=0.1, inplace=False)\n",
              "            )\n",
              "          )\n",
              "          (intermediate): BertIntermediate(\n",
              "            (dense): Linear(in_features=768, out_features=3072, bias=True)\n",
              "          )\n",
              "          (output): BertOutput(\n",
              "            (dense): Linear(in_features=3072, out_features=768, bias=True)\n",
              "            (LayerNorm): LayerNorm((768,), eps=1e-12, elementwise_affine=True)\n",
              "            (dropout): Dropout(p=0.1, inplace=False)\n",
              "          )\n",
              "        )\n",
              "      )\n",
              "    )\n",
              "    (pooler): BertPooler(\n",
              "      (dense): Linear(in_features=768, out_features=768, bias=True)\n",
              "      (activation): Tanh()\n",
              "    )\n",
              "  )\n",
              "  (dropout): Dropout(p=0.1, inplace=False)\n",
              "  (classifier): Linear(in_features=768, out_features=3, bias=True)\n",
              ")"
            ]
          },
          "metadata": {
            "tags": []
          },
          "execution_count": 47
        }
      ]
    },
    {
      "cell_type": "code",
      "metadata": {
        "id": "XC3dbkcyKldd",
        "colab_type": "code",
        "colab": {}
      },
      "source": [
        "param_optimizer = list(model.named_parameters())\n",
        "no_decay = ['bias', 'gamma', 'beta']\n",
        "optimizer_grouped_parameters = [\n",
        "    {'params': [p for n, p in param_optimizer if not any(nd in n for nd in no_decay)],\n",
        "     'weight_decay_rate': 0.01},\n",
        "    {'params': [p for n, p in param_optimizer if any(nd in n for nd in no_decay)],\n",
        "     'weight_decay_rate': 0.0}\n",
        "]\n",
        "\n",
        "optimizer = AdamW(optimizer_grouped_parameters, lr=2e-5)"
      ],
      "execution_count": null,
      "outputs": []
    },
    {
      "cell_type": "code",
      "metadata": {
        "id": "hQm7WEQfKsmk",
        "colab_type": "code",
        "colab": {
          "base_uri": "https://localhost:8080/",
          "height": 346
        },
        "outputId": "6ffcb715-3f57-4ed2-9d0b-00bd6680a047"
      },
      "source": [
        "%%time\n",
        "from IPython.display import clear_output\n",
        "\n",
        "# Будем сохранять loss во время обучения\n",
        "# и рисовать график в режиме реального времени\n",
        "train_loss_set = []\n",
        "train_loss = 0\n",
        "\n",
        "\n",
        "# Обучение\n",
        "# Переводим модель в training mode\n",
        "model.train()\n",
        "#device='cpu'\n",
        "\n",
        "for step, batch in enumerate(train_dataloader):\n",
        "    # добавляем батч для вычисления на GPU\n",
        "    batch = tuple(t.to(device) for t in batch)\n",
        "    # Распаковываем данные из dataloader\n",
        "    b_input_ids, b_input_mask, b_labels = batch\n",
        "    \n",
        "    # если не сделать .zero_grad(), градиенты будут накапливаться\n",
        "    optimizer.zero_grad()\n",
        "    \n",
        "    # Forward pass\n",
        "    loss = model(b_input_ids, token_type_ids=None, attention_mask=b_input_mask, labels=b_labels)\n",
        "\n",
        "    train_loss_set.append(loss[0].item())  \n",
        "    \n",
        "    # Backward pass\n",
        "    loss[0].backward()\n",
        "    \n",
        "    # Обновляем параметры и делаем шаг используя посчитанные градиенты\n",
        "    optimizer.step()\n",
        "\n",
        "    # Обновляем loss\n",
        "    train_loss += loss[0].item()\n",
        "    #print('TRAIN LOSS : ',loss[0].item())\n",
        "    # Рисуем график\n",
        "    clear_output(True)\n",
        "    plt.plot(train_loss_set)\n",
        "    plt.title(\"Training loss\")\n",
        "    plt.xlabel(\"Batch\")\n",
        "    plt.ylabel(\"Loss\")\n",
        "    plt.show()\n",
        "    \n",
        "print(\"Loss на обучающей выборке: {0:.5f}\".format(train_loss / len(train_dataloader)))\n"
      ],
      "execution_count": null,
      "outputs": [
        {
          "output_type": "display_data",
          "data": {
            "image/png": "[encoded data removed]",
            "text/plain": [
              "<Figure size 432x288 with 1 Axes>"
            ]
          },
          "metadata": {
            "tags": [],
            "needs_background": "light"
          }
        },
        {
          "output_type": "stream",
          "text": [
            "Loss на обучающей выборке: 1.03207\n",
            "CPU times: user 19.7 s, sys: 6.19 s, total: 25.8 s\n",
            "Wall time: 26 s\n"
          ],
          "name": "stdout"
        }
      ]
    },
    {
      "cell_type": "code",
      "metadata": {
        "id": "L8wrjuizJzMU",
        "colab_type": "code",
        "colab": {
          "base_uri": "https://localhost:8080/",
          "height": 34
        },
        "outputId": "6550e906-8696-4e82-f437-70dadc0eef0c"
      },
      "source": [
        "# Валидация\n",
        "# Переводим модель в evaluation mode\n",
        "model.eval()\n",
        "\n",
        "valid_preds, valid_labels = [], []\n",
        "\n",
        "for batch in validation_dataloader:   \n",
        "    # добавляем батч для вычисления на GPU\n",
        "    batch = tuple(t.to(device) for t in batch)\n",
        "    \n",
        "    # Распаковываем данные из dataloader\n",
        "    b_input_ids, b_input_mask, b_labels = batch\n",
        "    \n",
        "    # При использовании .no_grad() модель не будет считать и хранить градиенты.\n",
        "    # Это ускорит процесс предсказания меток для валидационных данных.\n",
        "    with torch.no_grad():\n",
        "        logits = model(b_input_ids, token_type_ids=None, attention_mask=b_input_mask)\n",
        "\n",
        "    # Перемещаем logits и метки классов на CPU для дальнейшей работы\n",
        "    logits = logits[0].detach().cpu().numpy()\n",
        "    label_ids = b_labels.to('cpu').numpy()\n",
        "    \n",
        "    batch_preds = np.argmax(logits, axis=1)\n",
        "    #batch_labels = np.concatenate(label_ids)   \n",
        "    batch_labels = label_ids  \n",
        "    valid_preds.extend(batch_preds)\n",
        "    valid_labels.extend(batch_labels)\n",
        "\n",
        "print(\"Процент правильных предсказаний на валидационной выборке: {0:.2f}%\".format(\n",
        "    accuracy_score(valid_labels, valid_preds) * 100\n",
        "))"
      ],
      "execution_count": null,
      "outputs": [
        {
          "output_type": "stream",
          "text": [
            "Процент правильных предсказаний на валидационной выборке: 68.47%\n"
          ],
          "name": "stdout"
        }
      ]
    },
    {
      "cell_type": "code",
      "metadata": {
        "id": "OPIHvaTpWUa7",
        "colab_type": "code",
        "colab": {}
      },
      "source": [
        "# Оценка качества на отложенной выборке\n",
        "\n",
        "tokenized_texts = [tokenizer.tokenize(sent) for sent in test_sentences]\n",
        "input_ids = [tokenizer.convert_tokens_to_ids(x) for x in tokenized_texts]\n",
        "\n",
        "input_ids = pad_sequences(\n",
        "    input_ids,\n",
        "    maxlen=100,\n",
        "    dtype=\"long\",\n",
        "    truncating=\"post\",\n",
        "    padding=\"post\"\n",
        ")\n",
        "\n",
        "attention_masks = [[float(i>0) for i in seq] for seq in input_ids]\n",
        "\n",
        "prediction_inputs = torch.tensor(input_ids)\n",
        "prediction_masks = torch.tensor(attention_masks)\n",
        "prediction_labels = torch.tensor(test_gt)  \n",
        "\n",
        "prediction_data = TensorDataset(\n",
        "    prediction_inputs,\n",
        "    prediction_masks,\n",
        "    prediction_labels\n",
        ")\n",
        "\n",
        "prediction_dataloader = DataLoader(\n",
        "    prediction_data, \n",
        "    sampler=SequentialSampler(prediction_data),\n",
        "    batch_size=32\n",
        ")"
      ],
      "execution_count": null,
      "outputs": []
    },
    {
      "cell_type": "code",
      "metadata": {
        "id": "adBt-ccz4KSE",
        "colab_type": "code",
        "colab": {
          "base_uri": "https://localhost:8080/",
          "height": 50
        },
        "outputId": "c09b5968-8cd5-4fc4-bc5e-893c5440f11f"
      },
      "source": [
        "%%time\n",
        "model.eval()\n",
        "test_preds, test_labels = [], []\n",
        "\n",
        "for batch in prediction_dataloader:\n",
        "    # добавляем батч для вычисления на GPU\n",
        "    batch = tuple(t.to(device) for t in batch)\n",
        "    \n",
        "    # Распаковываем данные из dataloader\n",
        "    b_input_ids, b_input_mask, b_labels = batch\n",
        "    \n",
        "    # При использовании .no_grad() модель не будет считать и хранить градиенты.\n",
        "    # Это ускорит процесс предсказания меток для тестовых данных.\n",
        "    with torch.no_grad():\n",
        "        logits = model(b_input_ids, token_type_ids=None, attention_mask=b_input_mask)\n",
        "\n",
        "    # Перемещаем logits и метки классов на CPU для дальнейшей работы\n",
        "    logits = logits[0].detach().cpu().numpy()\n",
        "    label_ids = b_labels.to('cpu').numpy()\n",
        "\n",
        "    # Сохраняем предсказанные классы и ground truth\n",
        "    batch_preds = np.argmax(logits, axis=1)\n",
        "    #batch_labels = np.concatenate(label_ids)  \n",
        "    batch_labels = label_ids\n",
        "    test_preds.extend(batch_preds)\n",
        "    test_labels.extend(batch_labels)"
      ],
      "execution_count": null,
      "outputs": [
        {
          "output_type": "stream",
          "text": [
            "CPU times: user 4.51 s, sys: 2.57 s, total: 7.08 s\n",
            "Wall time: 7.08 s\n"
          ],
          "name": "stdout"
        }
      ]
    },
    {
      "cell_type": "code",
      "metadata": {
        "id": "bhp1q2MK6Zep",
        "colab_type": "code",
        "colab": {
          "base_uri": "https://localhost:8080/",
          "height": 34
        },
        "outputId": "78369092-1908-4839-af7a-e2577779b3fa"
      },
      "source": [
        "acc_score = accuracy_score(test_labels, test_preds)\n",
        "print('Процент правильных предсказаний на отложенной выборке составил: {0:.2f}%'.format(\n",
        "    acc_score*100\n",
        "))"
      ],
      "execution_count": null,
      "outputs": [
        {
          "output_type": "stream",
          "text": [
            "Процент правильных предсказаний на отложенной выборке составил: 69.76%\n"
          ],
          "name": "stdout"
        }
      ]
    },
    {
      "cell_type": "code",
      "metadata": {
        "id": "jqKpUsAeP0Ua",
        "colab_type": "code",
        "colab": {
          "base_uri": "https://localhost:8080/",
          "height": 195
        },
        "outputId": "ff13e65b-7521-4799-e5c0-9acd42022f75"
      },
      "source": [
        "df_test['pred']=test_preds\n",
        "df_test.head()"
      ],
      "execution_count": null,
      "outputs": [
        {
          "output_type": "execute_result",
          "data": {
            "text/html": [
              "<div>\n",
              "<style scoped>\n",
              "    .dataframe tbody tr th:only-of-type {\n",
              "        vertical-align: middle;\n",
              "    }\n",
              "\n",
              "    .dataframe tbody tr th {\n",
              "        vertical-align: top;\n",
              "    }\n",
              "\n",
              "    .dataframe thead th {\n",
              "        text-align: right;\n",
              "    }\n",
              "</style>\n",
              "<table border=\"1\" class=\"dataframe\">\n",
              "  <thead>\n",
              "    <tr style=\"text-align: right;\">\n",
              "      <th></th>\n",
              "      <th>random</th>\n",
              "      <th>sentenses</th>\n",
              "      <th>y_encoded</th>\n",
              "      <th>pred</th>\n",
              "    </tr>\n",
              "  </thead>\n",
              "  <tbody>\n",
              "    <tr>\n",
              "      <th>0</th>\n",
              "      <td>0.710972</td>\n",
              "      <td>[CLS] модельер конструктор обязанность констру...</td>\n",
              "      <td>2</td>\n",
              "      <td>2</td>\n",
              "    </tr>\n",
              "    <tr>\n",
              "      <th>1</th>\n",
              "      <td>0.490861</td>\n",
              "      <td>[CLS] оператор call центр должностной обязанно...</td>\n",
              "      <td>2</td>\n",
              "      <td>2</td>\n",
              "    </tr>\n",
              "    <tr>\n",
              "      <th>2</th>\n",
              "      <td>0.592231</td>\n",
              "      <td>[CLS] ведущий менеджер тендер крупный компания...</td>\n",
              "      <td>1</td>\n",
              "      <td>2</td>\n",
              "    </tr>\n",
              "    <tr>\n",
              "      <th>3</th>\n",
              "      <td>0.199814</td>\n",
              "      <td>[CLS] продавец мобильный техника приморский пр...</td>\n",
              "      <td>0</td>\n",
              "      <td>0</td>\n",
              "    </tr>\n",
              "    <tr>\n",
              "      <th>4</th>\n",
              "      <td>0.892183</td>\n",
              "      <td>[CLS] работник торговый зал должностной обязан...</td>\n",
              "      <td>0</td>\n",
              "      <td>0</td>\n",
              "    </tr>\n",
              "  </tbody>\n",
              "</table>\n",
              "</div>"
            ],
            "text/plain": [
              "     random                                          sentenses  y_encoded  pred\n",
              "0  0.710972  [CLS] модельер конструктор обязанность констру...          2     2\n",
              "1  0.490861  [CLS] оператор call центр должностной обязанно...          2     2\n",
              "2  0.592231  [CLS] ведущий менеджер тендер крупный компания...          1     2\n",
              "3  0.199814  [CLS] продавец мобильный техника приморский пр...          0     0\n",
              "4  0.892183  [CLS] работник торговый зал должностной обязан...          0     0"
            ]
          },
          "metadata": {
            "tags": []
          },
          "execution_count": 54
        }
      ]
    },
    {
      "cell_type": "code",
      "metadata": {
        "id": "4OaKB_-UcvE1",
        "colab_type": "code",
        "colab": {
          "base_uri": "https://localhost:8080/",
          "height": 195
        },
        "outputId": "c30aa37c-e365-425d-b241-0c980299ab74"
      },
      "source": [
        "df_test['decoded_preds']=list(le.inverse_transform(test_preds))\n",
        "df_test.head()"
      ],
      "execution_count": null,
      "outputs": [
        {
          "output_type": "execute_result",
          "data": {
            "text/html": [
              "<div>\n",
              "<style scoped>\n",
              "    .dataframe tbody tr th:only-of-type {\n",
              "        vertical-align: middle;\n",
              "    }\n",
              "\n",
              "    .dataframe tbody tr th {\n",
              "        vertical-align: top;\n",
              "    }\n",
              "\n",
              "    .dataframe thead th {\n",
              "        text-align: right;\n",
              "    }\n",
              "</style>\n",
              "<table border=\"1\" class=\"dataframe\">\n",
              "  <thead>\n",
              "    <tr style=\"text-align: right;\">\n",
              "      <th></th>\n",
              "      <th>random</th>\n",
              "      <th>sentenses</th>\n",
              "      <th>y_encoded</th>\n",
              "      <th>pred</th>\n",
              "      <th>decoded_preds</th>\n",
              "    </tr>\n",
              "  </thead>\n",
              "  <tbody>\n",
              "    <tr>\n",
              "      <th>0</th>\n",
              "      <td>0.710972</td>\n",
              "      <td>[CLS] модельер конструктор обязанность констру...</td>\n",
              "      <td>2</td>\n",
              "      <td>2</td>\n",
              "      <td>2</td>\n",
              "    </tr>\n",
              "    <tr>\n",
              "      <th>1</th>\n",
              "      <td>0.490861</td>\n",
              "      <td>[CLS] оператор call центр должностной обязанно...</td>\n",
              "      <td>2</td>\n",
              "      <td>2</td>\n",
              "      <td>2</td>\n",
              "    </tr>\n",
              "    <tr>\n",
              "      <th>2</th>\n",
              "      <td>0.592231</td>\n",
              "      <td>[CLS] ведущий менеджер тендер крупный компания...</td>\n",
              "      <td>1</td>\n",
              "      <td>2</td>\n",
              "      <td>2</td>\n",
              "    </tr>\n",
              "    <tr>\n",
              "      <th>3</th>\n",
              "      <td>0.199814</td>\n",
              "      <td>[CLS] продавец мобильный техника приморский пр...</td>\n",
              "      <td>0</td>\n",
              "      <td>0</td>\n",
              "      <td>0</td>\n",
              "    </tr>\n",
              "    <tr>\n",
              "      <th>4</th>\n",
              "      <td>0.892183</td>\n",
              "      <td>[CLS] работник торговый зал должностной обязан...</td>\n",
              "      <td>0</td>\n",
              "      <td>0</td>\n",
              "      <td>0</td>\n",
              "    </tr>\n",
              "  </tbody>\n",
              "</table>\n",
              "</div>"
            ],
            "text/plain": [
              "     random  ... decoded_preds\n",
              "0  0.710972  ...             2\n",
              "1  0.490861  ...             2\n",
              "2  0.592231  ...             2\n",
              "3  0.199814  ...             0\n",
              "4  0.892183  ...             0\n",
              "\n",
              "[5 rows x 5 columns]"
            ]
          },
          "metadata": {
            "tags": []
          },
          "execution_count": 56
        }
      ]
    },
    {
      "cell_type": "code",
      "metadata": {
        "id": "Mr__vnkgchI6",
        "colab_type": "code",
        "colab": {}
      },
      "source": [
        ""
      ],
      "execution_count": null,
      "outputs": []
    },
    {
      "cell_type": "code",
      "metadata": {
        "id": "gmT_NsghP1FP",
        "colab_type": "code",
        "colab": {}
      },
      "source": [
        ""
      ],
      "execution_count": null,
      "outputs": []
    },
    {
      "cell_type": "code",
      "metadata": {
        "id": "RE9eNwzD6aUo",
        "colab_type": "code",
        "colab": {}
      },
      "source": [
        "#регулярное выражение с помощью которого будет токенизировать колонку description\n",
        "TOKEN_RE = re.compile(r'[\\w\\d]+')  #regular expression to start with"
      ],
      "execution_count": null,
      "outputs": []
    },
    {
      "cell_type": "code",
      "metadata": {
        "id": "51yVJXPQ6atq",
        "colab_type": "code",
        "colab": {}
      },
      "source": [
        "def tokenize_text_simple_regex(txt, min_token_size=4):\n",
        "    \"\"\" This func tokenize text with TOKEN_RE applied ealier \"\"\"\n",
        "    txt = txt.lower()\n",
        "    all_tokens = TOKEN_RE.findall(txt)\n",
        "    return [token for token in all_tokens if len(token) >= min_token_size]"
      ],
      "execution_count": null,
      "outputs": []
    },
    {
      "cell_type": "code",
      "metadata": {
        "id": "2IZpA_DA6oAK",
        "colab_type": "code",
        "colab": {}
      },
      "source": [
        "#divide dataset to train and test\n",
        "\n",
        "X_train, X_val, y_train, y_val=train_test_split(df_salaries100k['lemms'],\\\n",
        "                                                df_salaries100k['salary_from'], test_size=0.6,random_state=RS)"
      ],
      "execution_count": null,
      "outputs": []
    },
    {
      "cell_type": "code",
      "metadata": {
        "id": "5qVFdncN62Or",
        "colab_type": "code",
        "colab": {}
      },
      "source": [
        "sklearn_pipeline = Pipeline((('vect', TfidfVectorizer(tokenizer=tokenize_text_simple_regex,\n",
        "                                                      max_df=0.97,\n",
        "                                                      min_df=3)),\n",
        "                             #('cls', RandomForestRegressor(n_estimators=100,max_depth=30,n_jobs=-1, \\\n",
        "                             #                     verbose=True,random_state=RS))),\n",
        "                             ('cls', LGBMRegressor(random_state=RS,max_depth=200,\n",
        "                                                       num_leaves=300,\n",
        "                                                       min_data_in_leaf=100,\n",
        "                                                       n_estimators=300))),\n",
        "                            verbose=True)"
      ],
      "execution_count": null,
      "outputs": []
    },
    {
      "cell_type": "code",
      "metadata": {
        "id": "r9vVue0-620-",
        "colab_type": "code",
        "colab": {
          "base_uri": "https://localhost:8080/",
          "height": 50
        },
        "outputId": "d035b0cb-d7de-401e-8840-3c0d46bc2bdd"
      },
      "source": [
        "sklearn_pipeline.fit(X_train,y_train);"
      ],
      "execution_count": null,
      "outputs": [
        {
          "output_type": "stream",
          "text": [
            "[Pipeline] .............. (step 1 of 2) Processing vect, total=   3.6s\n",
            "[Pipeline] ............... (step 2 of 2) Processing cls, total= 4.6min\n"
          ],
          "name": "stdout"
        }
      ]
    },
    {
      "cell_type": "code",
      "metadata": {
        "id": "3TIUwiRo6omc",
        "colab_type": "code",
        "colab": {
          "base_uri": "https://localhost:8080/",
          "height": 50
        },
        "outputId": "e217f961-6f33-4c3a-dd42-4f4833ff2898"
      },
      "source": [
        "print('Скор на трейне',sklearn_pipeline.score(X_train, y_train))\n",
        "print('Скор по валидации',sklearn_pipeline.score(X_val, y_val))"
      ],
      "execution_count": null,
      "outputs": [
        {
          "output_type": "stream",
          "text": [
            "Скор на трейне 0.9414916188945684\n",
            "Скор по валидации 0.587854161314989\n"
          ],
          "name": "stdout"
        }
      ]
    },
    {
      "cell_type": "code",
      "metadata": {
        "id": "_ETWIioeAzWb",
        "colab_type": "code",
        "colab": {
          "base_uri": "https://localhost:8080/",
          "height": 101
        },
        "outputId": "dfda0ef9-bc31-492b-edba-bb6f7ecdb81a"
      },
      "source": [
        "#let s make prediction\n",
        "prediction = sklearn_pipeline.predict(X_val[-1:])\n",
        "print(X_val[-1:])\n",
        "print(prediction)\n",
        "err = mean_absolute_error(prediction, y_val.iloc[-1:])\n",
        "print(err)"
      ],
      "execution_count": null,
      "outputs": [
        {
          "output_type": "stream",
          "text": [
            "index\n",
            "70489    продавец консультант купчино тц балканский обя...\n",
            "Name: lemms, dtype: object\n",
            "[25877.1026182]\n",
            "122.89738180026688\n"
          ],
          "name": "stdout"
        }
      ]
    },
    {
      "cell_type": "code",
      "metadata": {
        "id": "_oF3w60dBMk5",
        "colab_type": "code",
        "colab": {
          "base_uri": "https://localhost:8080/",
          "height": 50
        },
        "outputId": "d79fb78e-6339-48e7-e891-062870ba624b"
      },
      "source": [
        "#let s see error on train and validation\n",
        "print('Error on train is ',mean_absolute_error(sklearn_pipeline.predict(X_train),y_train))\n",
        "print('Error on validation is ',mean_absolute_error(sklearn_pipeline.predict(X_val),y_val))"
      ],
      "execution_count": null,
      "outputs": [
        {
          "output_type": "stream",
          "text": [
            "Error on train is  2585.84207220461\n",
            "Error on validation is  8482.362312336618\n"
          ],
          "name": "stdout"
        }
      ]
    },
    {
      "cell_type": "code",
      "metadata": {
        "id": "g7vqfVtWNgZ2",
        "colab_type": "code",
        "colab": {
          "base_uri": "https://localhost:8080/",
          "height": 1000
        },
        "outputId": "27e39cdf-92d4-4a72-add9-97a811973381"
      },
      "source": [
        "#загружаем тесторые данные\n",
        "df_salaries_test = pd.read_csv('../content/gdrive/My Drive/dataset_trud/vacs_test.csv',index_col='index',sep=';')\n",
        "df_salaries_test.head(20)\n"
      ],
      "execution_count": null,
      "outputs": [
        {
          "output_type": "execute_result",
          "data": {
            "text/html": [
              "<div>\n",
              "<style scoped>\n",
              "    .dataframe tbody tr th:only-of-type {\n",
              "        vertical-align: middle;\n",
              "    }\n",
              "\n",
              "    .dataframe tbody tr th {\n",
              "        vertical-align: top;\n",
              "    }\n",
              "\n",
              "    .dataframe thead th {\n",
              "        text-align: right;\n",
              "    }\n",
              "</style>\n",
              "<table border=\"1\" class=\"dataframe\">\n",
              "  <thead>\n",
              "    <tr style=\"text-align: right;\">\n",
              "      <th></th>\n",
              "      <th>id</th>\n",
              "      <th>name</th>\n",
              "      <th>name.lemm</th>\n",
              "      <th>area.name</th>\n",
              "      <th>city</th>\n",
              "      <th>company.id</th>\n",
              "      <th>company</th>\n",
              "      <th>company_link</th>\n",
              "      <th>publication_date</th>\n",
              "      <th>salary_from</th>\n",
              "      <th>salary_currency</th>\n",
              "      <th>employment</th>\n",
              "      <th>employment.name</th>\n",
              "      <th>schedule</th>\n",
              "      <th>schedule.name</th>\n",
              "      <th>experience</th>\n",
              "      <th>experience.name</th>\n",
              "      <th>key_skills</th>\n",
              "      <th>specializations</th>\n",
              "      <th>specializations.names</th>\n",
              "      <th>description</th>\n",
              "      <th>description.lemm</th>\n",
              "      <th>type</th>\n",
              "    </tr>\n",
              "    <tr>\n",
              "      <th>index</th>\n",
              "      <th></th>\n",
              "      <th></th>\n",
              "      <th></th>\n",
              "      <th></th>\n",
              "      <th></th>\n",
              "      <th></th>\n",
              "      <th></th>\n",
              "      <th></th>\n",
              "      <th></th>\n",
              "      <th></th>\n",
              "      <th></th>\n",
              "      <th></th>\n",
              "      <th></th>\n",
              "      <th></th>\n",
              "      <th></th>\n",
              "      <th></th>\n",
              "      <th></th>\n",
              "      <th></th>\n",
              "      <th></th>\n",
              "      <th></th>\n",
              "      <th></th>\n",
              "      <th></th>\n",
              "      <th></th>\n",
              "    </tr>\n",
              "  </thead>\n",
              "  <tbody>\n",
              "    <tr>\n",
              "      <th>150869</th>\n",
              "      <td>24030837</td>\n",
              "      <td>Бухгалтер на участок Банковские операции</td>\n",
              "      <td>бухгалтер участок банковский операция</td>\n",
              "      <td>Санкт-Петербург</td>\n",
              "      <td>unknown</td>\n",
              "      <td>1449838</td>\n",
              "      <td>Управляющая компания Технологии Тепличного Роста</td>\n",
              "      <td>https://hh.ru/employer/1449838</td>\n",
              "      <td>2018-01-15T13:54:19+0300</td>\n",
              "      <td>NaN</td>\n",
              "      <td>RUR</td>\n",
              "      <td>full</td>\n",
              "      <td>Полная занятость</td>\n",
              "      <td>fullDay</td>\n",
              "      <td>Полный день</td>\n",
              "      <td>between1And3</td>\n",
              "      <td>От 1 года до 3 лет</td>\n",
              "      <td>NaN</td>\n",
              "      <td>5.45 5.42 5.250</td>\n",
              "      <td>Банки, инвестиции, лизинг - Валютный контроль ...</td>\n",
              "      <td>В Управляющей компании \"Технологии Тепличного ...</td>\n",
              "      <td>управляющий компания технология тепличный рост...</td>\n",
              "      <td>test</td>\n",
              "    </tr>\n",
              "    <tr>\n",
              "      <th>150870</th>\n",
              "      <td>24012268</td>\n",
              "      <td>Помощник бухгалтера</td>\n",
              "      <td>помощник бухгалтер</td>\n",
              "      <td>Санкт-Петербург</td>\n",
              "      <td>Санкт-Петербург</td>\n",
              "      <td>1449838</td>\n",
              "      <td>Управляющая компания Технологии Тепличного Роста</td>\n",
              "      <td>https://hh.ru/employer/1449838</td>\n",
              "      <td>2018-01-09T16:22:00+0300</td>\n",
              "      <td>NaN</td>\n",
              "      <td>RUR</td>\n",
              "      <td>full</td>\n",
              "      <td>Полная занятость</td>\n",
              "      <td>flexible</td>\n",
              "      <td>Гибкий график</td>\n",
              "      <td>noExperience</td>\n",
              "      <td>Нет опыта</td>\n",
              "      <td>NaN</td>\n",
              "      <td>2.179 2.469 15.730</td>\n",
              "      <td>Бухгалтерия, управленческий учет, финансы пред...</td>\n",
              "      <td>В управляющей компании \"Технологии Тепличного ...</td>\n",
              "      <td>управляющий компания технология тепличный рост...</td>\n",
              "      <td>test</td>\n",
              "    </tr>\n",
              "    <tr>\n",
              "      <th>150871</th>\n",
              "      <td>23707419</td>\n",
              "      <td>Заместитель главного бухгалтера</td>\n",
              "      <td>заместитель главный бухгалтер</td>\n",
              "      <td>Санкт-Петербург</td>\n",
              "      <td>Санкт-Петербург</td>\n",
              "      <td>1449838</td>\n",
              "      <td>Управляющая компания Технологии Тепличного Роста</td>\n",
              "      <td>https://hh.ru/employer/1449838</td>\n",
              "      <td>2017-12-13T16:45:16+0300</td>\n",
              "      <td>NaN</td>\n",
              "      <td>RUR</td>\n",
              "      <td>full</td>\n",
              "      <td>Полная занятость</td>\n",
              "      <td>fullDay</td>\n",
              "      <td>Полный день</td>\n",
              "      <td>between3And6</td>\n",
              "      <td>От 3 до 6 лет</td>\n",
              "      <td>NaN</td>\n",
              "      <td>2.43 2.261 2.249</td>\n",
              "      <td>Бухгалтерия, управленческий учет, финансы пред...</td>\n",
              "      <td>В Управляющей компании \"Технологии Тепличного ...</td>\n",
              "      <td>управляющий компания технология тепличный рост...</td>\n",
              "      <td>test</td>\n",
              "    </tr>\n",
              "    <tr>\n",
              "      <th>150872</th>\n",
              "      <td>24306509</td>\n",
              "      <td>Торговый представитель по продажам КГС (компре...</td>\n",
              "      <td>торговый представитель продажа КГС компрессор ...</td>\n",
              "      <td>Санкт-Петербург</td>\n",
              "      <td>unknown</td>\n",
              "      <td>964064</td>\n",
              "      <td>Управляющая компания Техстройконтракт</td>\n",
              "      <td>https://hh.ru/employer/964064</td>\n",
              "      <td>2018-02-27T10:50:04+0300</td>\n",
              "      <td>NaN</td>\n",
              "      <td>RUR</td>\n",
              "      <td>full</td>\n",
              "      <td>Полная занятость</td>\n",
              "      <td>fullDay</td>\n",
              "      <td>Полный день</td>\n",
              "      <td>between3And6</td>\n",
              "      <td>От 3 до 6 лет</td>\n",
              "      <td>Активная жизненная позиция | Коммуникабельност...</td>\n",
              "      <td>7.14 7.222 17.15 17.242 17.306</td>\n",
              "      <td>Автомобильный бизнес - Автозапчасти | Автомоби...</td>\n",
              "      <td>Обязанности:  Продажа компрессоров, генераторо...</td>\n",
              "      <td>обязанность продажа компрессор генератор сварк...</td>\n",
              "      <td>test</td>\n",
              "    </tr>\n",
              "    <tr>\n",
              "      <th>150873</th>\n",
              "      <td>24043072</td>\n",
              "      <td>Заместитель директора по сервису</td>\n",
              "      <td>заместитель директор сервис</td>\n",
              "      <td>Санкт-Петербург</td>\n",
              "      <td>unknown</td>\n",
              "      <td>964064</td>\n",
              "      <td>Управляющая компания Техстройконтракт</td>\n",
              "      <td>https://hh.ru/employer/964064</td>\n",
              "      <td>2018-02-13T09:34:20+0300</td>\n",
              "      <td>NaN</td>\n",
              "      <td>RUR</td>\n",
              "      <td>full</td>\n",
              "      <td>Полная занятость</td>\n",
              "      <td>fullDay</td>\n",
              "      <td>Полный день</td>\n",
              "      <td>between3And6</td>\n",
              "      <td>От 3 до 6 лет</td>\n",
              "      <td>NaN</td>\n",
              "      <td>7.267 7.14 7.222 17.15 26.407</td>\n",
              "      <td>Автомобильный бизнес - Сервисное обслуживание ...</td>\n",
              "      <td>Обязанности:  Продажа услуг по сервисному обсл...</td>\n",
              "      <td>обязанность продажа услуга сервисный обслужива...</td>\n",
              "      <td>test</td>\n",
              "    </tr>\n",
              "    <tr>\n",
              "      <th>150874</th>\n",
              "      <td>24075774</td>\n",
              "      <td>Торговый представитель по продажам дорожно-стр...</td>\n",
              "      <td>торговый представитель продажа дорожно-строите...</td>\n",
              "      <td>Санкт-Петербург</td>\n",
              "      <td>unknown</td>\n",
              "      <td>964064</td>\n",
              "      <td>Управляющая компания Техстройконтракт</td>\n",
              "      <td>https://hh.ru/employer/964064</td>\n",
              "      <td>2018-01-12T16:28:02+0300</td>\n",
              "      <td>NaN</td>\n",
              "      <td>RUR</td>\n",
              "      <td>full</td>\n",
              "      <td>Полная занятость</td>\n",
              "      <td>fullDay</td>\n",
              "      <td>Полный день</td>\n",
              "      <td>between1And3</td>\n",
              "      <td>От 1 года до 3 лет</td>\n",
              "      <td>Прямые продажи | Ведение переговоров | Активны...</td>\n",
              "      <td>17.59 17.15 17.242 17.306 17.279 7.222</td>\n",
              "      <td>Продажи - ГСМ, нефть, бензин | Продажи - Автом...</td>\n",
              "      <td>Обязанности:  Продажа импортной дорожно-строит...</td>\n",
              "      <td>обязанность продажа импортный дорожно-строител...</td>\n",
              "      <td>test</td>\n",
              "    </tr>\n",
              "    <tr>\n",
              "      <th>150875</th>\n",
              "      <td>24053466</td>\n",
              "      <td>Менеджер по продажам сервисных услуг</td>\n",
              "      <td>менеджер продажа сервисный услуга</td>\n",
              "      <td>Санкт-Петербург</td>\n",
              "      <td>unknown</td>\n",
              "      <td>964064</td>\n",
              "      <td>Управляющая компания Техстройконтракт</td>\n",
              "      <td>https://hh.ru/employer/964064</td>\n",
              "      <td>2018-01-11T14:48:40+0300</td>\n",
              "      <td>NaN</td>\n",
              "      <td>RUR</td>\n",
              "      <td>full</td>\n",
              "      <td>Полная занятость</td>\n",
              "      <td>fullDay</td>\n",
              "      <td>Полный день</td>\n",
              "      <td>between1And3</td>\n",
              "      <td>От 1 года до 3 лет</td>\n",
              "      <td>Пользователь ПК | Грамотная речь | Поиск инфор...</td>\n",
              "      <td>7.267 7.14 7.222 17.15 25.385 26.407</td>\n",
              "      <td>Автомобильный бизнес - Сервисное обслуживание ...</td>\n",
              "      <td>Обязанности:  Продажа услуг по сервисному обсл...</td>\n",
              "      <td>обязанность продажа услуга сервисный обслужива...</td>\n",
              "      <td>test</td>\n",
              "    </tr>\n",
              "    <tr>\n",
              "      <th>150876</th>\n",
              "      <td>24043013</td>\n",
              "      <td>Слесарь-механик</td>\n",
              "      <td>слесарь механик</td>\n",
              "      <td>Санкт-Петербург</td>\n",
              "      <td>unknown</td>\n",
              "      <td>964064</td>\n",
              "      <td>Управляющая компания Техстройконтракт</td>\n",
              "      <td>https://hh.ru/employer/964064</td>\n",
              "      <td>2018-01-11T09:45:13+0300</td>\n",
              "      <td>NaN</td>\n",
              "      <td>RUR</td>\n",
              "      <td>full</td>\n",
              "      <td>Полная занятость</td>\n",
              "      <td>fullDay</td>\n",
              "      <td>Полный день</td>\n",
              "      <td>between1And3</td>\n",
              "      <td>От 1 года до 3 лет</td>\n",
              "      <td>NaN</td>\n",
              "      <td>29.510 29.552</td>\n",
              "      <td>Рабочий персонал - Слесарь | Рабочий персонал ...</td>\n",
              "      <td>Обязанности:  Диагностика, ремонт и техническо...</td>\n",
              "      <td>обязанность диагностика ремонт технический обс...</td>\n",
              "      <td>test</td>\n",
              "    </tr>\n",
              "    <tr>\n",
              "      <th>150877</th>\n",
              "      <td>24259970</td>\n",
              "      <td>Юрисконсульт/ Начальник юридического отдела</td>\n",
              "      <td>юрисконсульт начальник юридический отдел</td>\n",
              "      <td>Санкт-Петербург</td>\n",
              "      <td>Санкт-Петербург</td>\n",
              "      <td>3198094</td>\n",
              "      <td>Управляющая Компания Управдом-Сервис №1</td>\n",
              "      <td>https://hh.ru/employer/3198094</td>\n",
              "      <td>2018-01-25T16:58:19+0300</td>\n",
              "      <td>NaN</td>\n",
              "      <td>RUR</td>\n",
              "      <td>full</td>\n",
              "      <td>Полная занятость</td>\n",
              "      <td>fullDay</td>\n",
              "      <td>Полный день</td>\n",
              "      <td>between1And3</td>\n",
              "      <td>От 1 года до 3 лет</td>\n",
              "      <td>NaN</td>\n",
              "      <td>23.477 23.362</td>\n",
              "      <td>Юристы - Договорное право | Юристы - Юрисконсульт</td>\n",
              "      <td>Обязанности:  Подача исковых заявлений, заявле...</td>\n",
              "      <td>обязанность подача исковой заявление заявление...</td>\n",
              "      <td>test</td>\n",
              "    </tr>\n",
              "    <tr>\n",
              "      <th>150878</th>\n",
              "      <td>24092520</td>\n",
              "      <td>Юрист</td>\n",
              "      <td>юрист</td>\n",
              "      <td>Санкт-Петербург</td>\n",
              "      <td>Санкт-Петербург</td>\n",
              "      <td>2792659</td>\n",
              "      <td>Управляющая Компания Ф-Консалтинг</td>\n",
              "      <td>https://hh.ru/employer/2792659</td>\n",
              "      <td>2018-01-15T12:06:31+0300</td>\n",
              "      <td>NaN</td>\n",
              "      <td>RUR</td>\n",
              "      <td>full</td>\n",
              "      <td>Полная занятость</td>\n",
              "      <td>fullDay</td>\n",
              "      <td>Полный день</td>\n",
              "      <td>between1And3</td>\n",
              "      <td>От 1 года до 3 лет</td>\n",
              "      <td>NaN</td>\n",
              "      <td>23.214</td>\n",
              "      <td>Юристы - Помощник</td>\n",
              "      <td>Обязанности:  подготовка документов для акцион...</td>\n",
              "      <td>обязанность подготовка документ акционерный об...</td>\n",
              "      <td>test</td>\n",
              "    </tr>\n",
              "    <tr>\n",
              "      <th>150879</th>\n",
              "      <td>23848300</td>\n",
              "      <td>Специалист по маркетингу</td>\n",
              "      <td>специалист маркетинг</td>\n",
              "      <td>Санкт-Петербург</td>\n",
              "      <td>Санкт-Петербург</td>\n",
              "      <td>2792659</td>\n",
              "      <td>Управляющая Компания Ф-Консалтинг</td>\n",
              "      <td>https://hh.ru/employer/2792659</td>\n",
              "      <td>2018-01-14T14:25:03+0300</td>\n",
              "      <td>NaN</td>\n",
              "      <td>RUR</td>\n",
              "      <td>full</td>\n",
              "      <td>Полная занятость</td>\n",
              "      <td>fullDay</td>\n",
              "      <td>Полный день</td>\n",
              "      <td>noExperience</td>\n",
              "      <td>Нет опыта</td>\n",
              "      <td>Маркетинговые коммуникации | Маркетинговые исс...</td>\n",
              "      <td>3.318 3.150 3.230 3.8 3.40</td>\n",
              "      <td>Маркетинг, реклама, PR - Управление маркетинго...</td>\n",
              "      <td>Требования:  Уверенный пользователь ПК Умение ...</td>\n",
              "      <td>требование уверенный пользователь пк умение ра...</td>\n",
              "      <td>test</td>\n",
              "    </tr>\n",
              "    <tr>\n",
              "      <th>150884</th>\n",
              "      <td>23782349</td>\n",
              "      <td>Грузчик на склад</td>\n",
              "      <td>грузчик склад</td>\n",
              "      <td>Санкт-Петербург</td>\n",
              "      <td>Санкт-Петербург</td>\n",
              "      <td>2627055</td>\n",
              "      <td>УралМедСервис</td>\n",
              "      <td>https://hh.ru/employer/2627055</td>\n",
              "      <td>2017-12-11T09:52:25+0300</td>\n",
              "      <td>NaN</td>\n",
              "      <td>RUR</td>\n",
              "      <td>full</td>\n",
              "      <td>Полная занятость</td>\n",
              "      <td>fullDay</td>\n",
              "      <td>Полный день</td>\n",
              "      <td>between1And3</td>\n",
              "      <td>От 1 года до 3 лет</td>\n",
              "      <td>NaN</td>\n",
              "      <td>29.556 29.495 21.275 21.563 21.564</td>\n",
              "      <td>Рабочий персонал - Разнорабочий | Рабочий перс...</td>\n",
              "      <td>На склад г. Санкт-Петербург, на постоянную раб...</td>\n",
              "      <td>склад санкт-петербург постоянный работа требов...</td>\n",
              "      <td>test</td>\n",
              "    </tr>\n",
              "    <tr>\n",
              "      <th>150885</th>\n",
              "      <td>23735675</td>\n",
              "      <td>Грузчик</td>\n",
              "      <td>грузчик</td>\n",
              "      <td>Санкт-Петербург</td>\n",
              "      <td>Санкт-Петербург</td>\n",
              "      <td>2627055</td>\n",
              "      <td>УралМедСервис</td>\n",
              "      <td>https://hh.ru/employer/2627055</td>\n",
              "      <td>2017-12-06T14:37:26+0300</td>\n",
              "      <td>NaN</td>\n",
              "      <td>RUR</td>\n",
              "      <td>full</td>\n",
              "      <td>Полная занятость</td>\n",
              "      <td>fullDay</td>\n",
              "      <td>Полный день</td>\n",
              "      <td>between1And3</td>\n",
              "      <td>От 1 года до 3 лет</td>\n",
              "      <td>NaN</td>\n",
              "      <td>29.495 21.563 21.564</td>\n",
              "      <td>Рабочий персонал - Грузчик | Транспорт, логист...</td>\n",
              "      <td>На склад г. Санкт-Петербург, на постоянную раб...</td>\n",
              "      <td>склад санкт-петербург постоянный работа требов...</td>\n",
              "      <td>test</td>\n",
              "    </tr>\n",
              "    <tr>\n",
              "      <th>150886</th>\n",
              "      <td>24235370</td>\n",
              "      <td>Старший смены склада</td>\n",
              "      <td>старший смена склад</td>\n",
              "      <td>Санкт-Петербург</td>\n",
              "      <td>Санкт-Петербург</td>\n",
              "      <td>920465</td>\n",
              "      <td>Урал-Пресс СПб</td>\n",
              "      <td>https://hh.ru/employer/920465</td>\n",
              "      <td>2018-02-23T11:17:03+0300</td>\n",
              "      <td>NaN</td>\n",
              "      <td>RUR</td>\n",
              "      <td>full</td>\n",
              "      <td>Полная занятость</td>\n",
              "      <td>fullDay</td>\n",
              "      <td>Полный день</td>\n",
              "      <td>between1And3</td>\n",
              "      <td>От 1 года до 3 лет</td>\n",
              "      <td>NaN</td>\n",
              "      <td>29.556 29.495 21.275 21.563 21.564 15.308</td>\n",
              "      <td>Рабочий персонал - Разнорабочий | Рабочий перс...</td>\n",
              "      <td>Обязанности:  погрузка-разгрузка, обработка, с...</td>\n",
              "      <td>обязанность погрузка разгрузка обработка сорти...</td>\n",
              "      <td>test</td>\n",
              "    </tr>\n",
              "    <tr>\n",
              "      <th>150887</th>\n",
              "      <td>24101245</td>\n",
              "      <td>Оператор склада</td>\n",
              "      <td>оператор склад</td>\n",
              "      <td>Санкт-Петербург</td>\n",
              "      <td>Санкт-Петербург</td>\n",
              "      <td>920465</td>\n",
              "      <td>Урал-Пресс СПб</td>\n",
              "      <td>https://hh.ru/employer/920465</td>\n",
              "      <td>2018-02-14T16:16:02+0300</td>\n",
              "      <td>NaN</td>\n",
              "      <td>RUR</td>\n",
              "      <td>full</td>\n",
              "      <td>Полная занятость</td>\n",
              "      <td>fullDay</td>\n",
              "      <td>Полный день</td>\n",
              "      <td>noExperience</td>\n",
              "      <td>Нет опыта</td>\n",
              "      <td>NaN</td>\n",
              "      <td>29.556 29.495 21.275 21.563 21.564 15.308</td>\n",
              "      <td>Рабочий персонал - Разнорабочий | Рабочий перс...</td>\n",
              "      <td>Обязанности:  погрузка-разгрузка, обработка, с...</td>\n",
              "      <td>обязанность погрузка разгрузка обработка сорти...</td>\n",
              "      <td>test</td>\n",
              "    </tr>\n",
              "    <tr>\n",
              "      <th>150888</th>\n",
              "      <td>24042692</td>\n",
              "      <td>Менеджер по работе с клиентами</td>\n",
              "      <td>менеджер работа клиент</td>\n",
              "      <td>Санкт-Петербург</td>\n",
              "      <td>NaN</td>\n",
              "      <td>920465</td>\n",
              "      <td>Урал-Пресс СПб</td>\n",
              "      <td>https://hh.ru/employer/920465</td>\n",
              "      <td>2018-02-10T09:36:47+0300</td>\n",
              "      <td>NaN</td>\n",
              "      <td>RUR</td>\n",
              "      <td>full</td>\n",
              "      <td>Полная занятость</td>\n",
              "      <td>fullDay</td>\n",
              "      <td>Полный день</td>\n",
              "      <td>noExperience</td>\n",
              "      <td>Нет опыта</td>\n",
              "      <td>NaN</td>\n",
              "      <td>4.429 4.47 4.255 4.181 4.278 4.264</td>\n",
              "      <td>Административный персонал - Делопроизводство |...</td>\n",
              "      <td>Менеджер по работе с клиентами (не продажи)   ...</td>\n",
              "      <td>менеджер работа клиент продажа обязанность при...</td>\n",
              "      <td>test</td>\n",
              "    </tr>\n",
              "    <tr>\n",
              "      <th>150892</th>\n",
              "      <td>24194408</td>\n",
              "      <td>Главный бухгалтер</td>\n",
              "      <td>главный бухгалтер</td>\n",
              "      <td>Санкт-Петербург</td>\n",
              "      <td>Санкт-Петербург</td>\n",
              "      <td>2988838</td>\n",
              "      <td>Уральская Лесопромышленная Торговая Компания</td>\n",
              "      <td>https://hh.ru/employer/2988838</td>\n",
              "      <td>2018-01-22T11:21:39+0300</td>\n",
              "      <td>NaN</td>\n",
              "      <td>RUR</td>\n",
              "      <td>full</td>\n",
              "      <td>Полная занятость</td>\n",
              "      <td>fullDay</td>\n",
              "      <td>Полный день</td>\n",
              "      <td>between3And6</td>\n",
              "      <td>От 3 до 6 лет</td>\n",
              "      <td>Ответственность | Умение работать с большим об...</td>\n",
              "      <td>2.43 2.335 2.337 2.164 2.469</td>\n",
              "      <td>Бухгалтерия, управленческий учет, финансы пред...</td>\n",
              "      <td>Требования: опыт работы главным бухгалтером ...</td>\n",
              "      <td>требование опыт работа главный бухгалтер произ...</td>\n",
              "      <td>test</td>\n",
              "    </tr>\n",
              "    <tr>\n",
              "      <th>150893</th>\n",
              "      <td>24133082</td>\n",
              "      <td>Медицинский представитель</td>\n",
              "      <td>медицинский представитель</td>\n",
              "      <td>Санкт-Петербург</td>\n",
              "      <td>unknown</td>\n",
              "      <td>707025</td>\n",
              "      <td>Уральский биомедицинский кластер, НП</td>\n",
              "      <td>https://hh.ru/employer/707025</td>\n",
              "      <td>2018-01-17T09:43:48+0300</td>\n",
              "      <td>NaN</td>\n",
              "      <td>RUR</td>\n",
              "      <td>full</td>\n",
              "      <td>Полная занятость</td>\n",
              "      <td>fullDay</td>\n",
              "      <td>Полный день</td>\n",
              "      <td>between1And3</td>\n",
              "      <td>От 1 года до 3 лет</td>\n",
              "      <td>NaN</td>\n",
              "      <td>17.144 13.227 13.185 13.489</td>\n",
              "      <td>Продажи - Медицина, Фармацевтика | Медицина, ф...</td>\n",
              "      <td>НП \"Уральский фармацевтический кластер\" (струк...</td>\n",
              "      <td>НП уральский фармацевтический кластер структур...</td>\n",
              "      <td>test</td>\n",
              "    </tr>\n",
              "    <tr>\n",
              "      <th>150894</th>\n",
              "      <td>23695557</td>\n",
              "      <td>Медицинский представитель</td>\n",
              "      <td>медицинский представитель</td>\n",
              "      <td>Санкт-Петербург</td>\n",
              "      <td>unknown</td>\n",
              "      <td>707025</td>\n",
              "      <td>Уральский биомедицинский кластер, НП</td>\n",
              "      <td>https://hh.ru/employer/707025</td>\n",
              "      <td>2017-12-04T10:14:18+0300</td>\n",
              "      <td>NaN</td>\n",
              "      <td>RUR</td>\n",
              "      <td>full</td>\n",
              "      <td>Полная занятость</td>\n",
              "      <td>fullDay</td>\n",
              "      <td>Полный день</td>\n",
              "      <td>between1And3</td>\n",
              "      <td>От 1 года до 3 лет</td>\n",
              "      <td>NaN</td>\n",
              "      <td>17.144 13.227 13.185 13.489</td>\n",
              "      <td>Продажи - Медицина, Фармацевтика | Медицина, ф...</td>\n",
              "      <td>НП \"Уральский фармацевтический кластер\" (струк...</td>\n",
              "      <td>НП уральский фармацевтический кластер структур...</td>\n",
              "      <td>test</td>\n",
              "    </tr>\n",
              "    <tr>\n",
              "      <th>150912</th>\n",
              "      <td>24147157</td>\n",
              "      <td>Торговый представитель (индустрия красоты)</td>\n",
              "      <td>торговый представитель индустрия красота</td>\n",
              "      <td>Санкт-Петербург</td>\n",
              "      <td>Москва</td>\n",
              "      <td>2849832</td>\n",
              "      <td>Урбан Косметикс</td>\n",
              "      <td>https://hh.ru/employer/2849832</td>\n",
              "      <td>2018-02-16T17:31:27+0300</td>\n",
              "      <td>NaN</td>\n",
              "      <td>RUR</td>\n",
              "      <td>full</td>\n",
              "      <td>Полная занятость</td>\n",
              "      <td>fullDay</td>\n",
              "      <td>Полный день</td>\n",
              "      <td>between1And3</td>\n",
              "      <td>От 1 года до 3 лет</td>\n",
              "      <td>NaN</td>\n",
              "      <td>17.302 17.144 17.66 17.306 17.196 17.149</td>\n",
              "      <td>Продажи - FMCG, Товары народного потребления |...</td>\n",
              "      <td>Обязанности:  Привлечение и ведение клиентов (...</td>\n",
              "      <td>обязанность привлечение ведение клиент салон к...</td>\n",
              "      <td>test</td>\n",
              "    </tr>\n",
              "  </tbody>\n",
              "</table>\n",
              "</div>"
            ],
            "text/plain": [
              "              id  ...  type\n",
              "index             ...      \n",
              "150869  24030837  ...  test\n",
              "150870  24012268  ...  test\n",
              "150871  23707419  ...  test\n",
              "150872  24306509  ...  test\n",
              "150873  24043072  ...  test\n",
              "150874  24075774  ...  test\n",
              "150875  24053466  ...  test\n",
              "150876  24043013  ...  test\n",
              "150877  24259970  ...  test\n",
              "150878  24092520  ...  test\n",
              "150879  23848300  ...  test\n",
              "150884  23782349  ...  test\n",
              "150885  23735675  ...  test\n",
              "150886  24235370  ...  test\n",
              "150887  24101245  ...  test\n",
              "150888  24042692  ...  test\n",
              "150892  24194408  ...  test\n",
              "150893  24133082  ...  test\n",
              "150894  23695557  ...  test\n",
              "150912  24147157  ...  test\n",
              "\n",
              "[20 rows x 23 columns]"
            ]
          },
          "metadata": {
            "tags": []
          },
          "execution_count": 142
        }
      ]
    },
    {
      "cell_type": "code",
      "metadata": {
        "id": "nI72QoQRNhL8",
        "colab_type": "code",
        "colab": {
          "base_uri": "https://localhost:8080/",
          "height": 564
        },
        "outputId": "053db546-1ee8-49d8-822f-1c3a2776d6cf"
      },
      "source": [
        "#сделаем колонку lemms в которой объединим данные из name.lemm и description.lemm это должно существеннго повысить\n",
        "#точность предсказания\n",
        "df_salaries_test['lemms']=df_salaries_test['name.lemm']+' '+df_salaries_test['description.lemm']\n",
        "df_salaries_test.head()"
      ],
      "execution_count": null,
      "outputs": [
        {
          "output_type": "execute_result",
          "data": {
            "text/html": [
              "<div>\n",
              "<style scoped>\n",
              "    .dataframe tbody tr th:only-of-type {\n",
              "        vertical-align: middle;\n",
              "    }\n",
              "\n",
              "    .dataframe tbody tr th {\n",
              "        vertical-align: top;\n",
              "    }\n",
              "\n",
              "    .dataframe thead th {\n",
              "        text-align: right;\n",
              "    }\n",
              "</style>\n",
              "<table border=\"1\" class=\"dataframe\">\n",
              "  <thead>\n",
              "    <tr style=\"text-align: right;\">\n",
              "      <th></th>\n",
              "      <th>id</th>\n",
              "      <th>name</th>\n",
              "      <th>name.lemm</th>\n",
              "      <th>area.name</th>\n",
              "      <th>city</th>\n",
              "      <th>company.id</th>\n",
              "      <th>company</th>\n",
              "      <th>company_link</th>\n",
              "      <th>publication_date</th>\n",
              "      <th>salary_from</th>\n",
              "      <th>salary_currency</th>\n",
              "      <th>employment</th>\n",
              "      <th>employment.name</th>\n",
              "      <th>schedule</th>\n",
              "      <th>schedule.name</th>\n",
              "      <th>experience</th>\n",
              "      <th>experience.name</th>\n",
              "      <th>key_skills</th>\n",
              "      <th>specializations</th>\n",
              "      <th>specializations.names</th>\n",
              "      <th>description</th>\n",
              "      <th>description.lemm</th>\n",
              "      <th>type</th>\n",
              "      <th>lemms</th>\n",
              "    </tr>\n",
              "    <tr>\n",
              "      <th>index</th>\n",
              "      <th></th>\n",
              "      <th></th>\n",
              "      <th></th>\n",
              "      <th></th>\n",
              "      <th></th>\n",
              "      <th></th>\n",
              "      <th></th>\n",
              "      <th></th>\n",
              "      <th></th>\n",
              "      <th></th>\n",
              "      <th></th>\n",
              "      <th></th>\n",
              "      <th></th>\n",
              "      <th></th>\n",
              "      <th></th>\n",
              "      <th></th>\n",
              "      <th></th>\n",
              "      <th></th>\n",
              "      <th></th>\n",
              "      <th></th>\n",
              "      <th></th>\n",
              "      <th></th>\n",
              "      <th></th>\n",
              "      <th></th>\n",
              "    </tr>\n",
              "  </thead>\n",
              "  <tbody>\n",
              "    <tr>\n",
              "      <th>150869</th>\n",
              "      <td>24030837</td>\n",
              "      <td>Бухгалтер на участок Банковские операции</td>\n",
              "      <td>бухгалтер участок банковский операция</td>\n",
              "      <td>Санкт-Петербург</td>\n",
              "      <td>unknown</td>\n",
              "      <td>1449838</td>\n",
              "      <td>Управляющая компания Технологии Тепличного Роста</td>\n",
              "      <td>https://hh.ru/employer/1449838</td>\n",
              "      <td>2018-01-15T13:54:19+0300</td>\n",
              "      <td>NaN</td>\n",
              "      <td>RUR</td>\n",
              "      <td>full</td>\n",
              "      <td>Полная занятость</td>\n",
              "      <td>fullDay</td>\n",
              "      <td>Полный день</td>\n",
              "      <td>between1And3</td>\n",
              "      <td>От 1 года до 3 лет</td>\n",
              "      <td>NaN</td>\n",
              "      <td>5.45 5.42 5.250</td>\n",
              "      <td>Банки, инвестиции, лизинг - Валютный контроль ...</td>\n",
              "      <td>В Управляющей компании \"Технологии Тепличного ...</td>\n",
              "      <td>управляющий компания технология тепличный рост...</td>\n",
              "      <td>test</td>\n",
              "      <td>бухгалтер участок банковский операция управляю...</td>\n",
              "    </tr>\n",
              "    <tr>\n",
              "      <th>150870</th>\n",
              "      <td>24012268</td>\n",
              "      <td>Помощник бухгалтера</td>\n",
              "      <td>помощник бухгалтер</td>\n",
              "      <td>Санкт-Петербург</td>\n",
              "      <td>Санкт-Петербург</td>\n",
              "      <td>1449838</td>\n",
              "      <td>Управляющая компания Технологии Тепличного Роста</td>\n",
              "      <td>https://hh.ru/employer/1449838</td>\n",
              "      <td>2018-01-09T16:22:00+0300</td>\n",
              "      <td>NaN</td>\n",
              "      <td>RUR</td>\n",
              "      <td>full</td>\n",
              "      <td>Полная занятость</td>\n",
              "      <td>flexible</td>\n",
              "      <td>Гибкий график</td>\n",
              "      <td>noExperience</td>\n",
              "      <td>Нет опыта</td>\n",
              "      <td>NaN</td>\n",
              "      <td>2.179 2.469 15.730</td>\n",
              "      <td>Бухгалтерия, управленческий учет, финансы пред...</td>\n",
              "      <td>В управляющей компании \"Технологии Тепличного ...</td>\n",
              "      <td>управляющий компания технология тепличный рост...</td>\n",
              "      <td>test</td>\n",
              "      <td>помощник бухгалтер управляющий компания технол...</td>\n",
              "    </tr>\n",
              "    <tr>\n",
              "      <th>150871</th>\n",
              "      <td>23707419</td>\n",
              "      <td>Заместитель главного бухгалтера</td>\n",
              "      <td>заместитель главный бухгалтер</td>\n",
              "      <td>Санкт-Петербург</td>\n",
              "      <td>Санкт-Петербург</td>\n",
              "      <td>1449838</td>\n",
              "      <td>Управляющая компания Технологии Тепличного Роста</td>\n",
              "      <td>https://hh.ru/employer/1449838</td>\n",
              "      <td>2017-12-13T16:45:16+0300</td>\n",
              "      <td>NaN</td>\n",
              "      <td>RUR</td>\n",
              "      <td>full</td>\n",
              "      <td>Полная занятость</td>\n",
              "      <td>fullDay</td>\n",
              "      <td>Полный день</td>\n",
              "      <td>between3And6</td>\n",
              "      <td>От 3 до 6 лет</td>\n",
              "      <td>NaN</td>\n",
              "      <td>2.43 2.261 2.249</td>\n",
              "      <td>Бухгалтерия, управленческий учет, финансы пред...</td>\n",
              "      <td>В Управляющей компании \"Технологии Тепличного ...</td>\n",
              "      <td>управляющий компания технология тепличный рост...</td>\n",
              "      <td>test</td>\n",
              "      <td>заместитель главный бухгалтер управляющий комп...</td>\n",
              "    </tr>\n",
              "    <tr>\n",
              "      <th>150872</th>\n",
              "      <td>24306509</td>\n",
              "      <td>Торговый представитель по продажам КГС (компре...</td>\n",
              "      <td>торговый представитель продажа КГС компрессор ...</td>\n",
              "      <td>Санкт-Петербург</td>\n",
              "      <td>unknown</td>\n",
              "      <td>964064</td>\n",
              "      <td>Управляющая компания Техстройконтракт</td>\n",
              "      <td>https://hh.ru/employer/964064</td>\n",
              "      <td>2018-02-27T10:50:04+0300</td>\n",
              "      <td>NaN</td>\n",
              "      <td>RUR</td>\n",
              "      <td>full</td>\n",
              "      <td>Полная занятость</td>\n",
              "      <td>fullDay</td>\n",
              "      <td>Полный день</td>\n",
              "      <td>between3And6</td>\n",
              "      <td>От 3 до 6 лет</td>\n",
              "      <td>Активная жизненная позиция | Коммуникабельност...</td>\n",
              "      <td>7.14 7.222 17.15 17.242 17.306</td>\n",
              "      <td>Автомобильный бизнес - Автозапчасти | Автомоби...</td>\n",
              "      <td>Обязанности:  Продажа компрессоров, генераторо...</td>\n",
              "      <td>обязанность продажа компрессор генератор сварк...</td>\n",
              "      <td>test</td>\n",
              "      <td>торговый представитель продажа КГС компрессор ...</td>\n",
              "    </tr>\n",
              "    <tr>\n",
              "      <th>150873</th>\n",
              "      <td>24043072</td>\n",
              "      <td>Заместитель директора по сервису</td>\n",
              "      <td>заместитель директор сервис</td>\n",
              "      <td>Санкт-Петербург</td>\n",
              "      <td>unknown</td>\n",
              "      <td>964064</td>\n",
              "      <td>Управляющая компания Техстройконтракт</td>\n",
              "      <td>https://hh.ru/employer/964064</td>\n",
              "      <td>2018-02-13T09:34:20+0300</td>\n",
              "      <td>NaN</td>\n",
              "      <td>RUR</td>\n",
              "      <td>full</td>\n",
              "      <td>Полная занятость</td>\n",
              "      <td>fullDay</td>\n",
              "      <td>Полный день</td>\n",
              "      <td>between3And6</td>\n",
              "      <td>От 3 до 6 лет</td>\n",
              "      <td>NaN</td>\n",
              "      <td>7.267 7.14 7.222 17.15 26.407</td>\n",
              "      <td>Автомобильный бизнес - Сервисное обслуживание ...</td>\n",
              "      <td>Обязанности:  Продажа услуг по сервисному обсл...</td>\n",
              "      <td>обязанность продажа услуга сервисный обслужива...</td>\n",
              "      <td>test</td>\n",
              "      <td>заместитель директор сервис обязанность продаж...</td>\n",
              "    </tr>\n",
              "  </tbody>\n",
              "</table>\n",
              "</div>"
            ],
            "text/plain": [
              "              id  ...                                              lemms\n",
              "index             ...                                                   \n",
              "150869  24030837  ...  бухгалтер участок банковский операция управляю...\n",
              "150870  24012268  ...  помощник бухгалтер управляющий компания технол...\n",
              "150871  23707419  ...  заместитель главный бухгалтер управляющий комп...\n",
              "150872  24306509  ...  торговый представитель продажа КГС компрессор ...\n",
              "150873  24043072  ...  заместитель директор сервис обязанность продаж...\n",
              "\n",
              "[5 rows x 24 columns]"
            ]
          },
          "metadata": {
            "tags": []
          },
          "execution_count": 143
        }
      ]
    },
    {
      "cell_type": "code",
      "metadata": {
        "id": "J-evdBspNhri",
        "colab_type": "code",
        "colab": {}
      },
      "source": [
        "prediction_test = sklearn_pipeline.predict(df_salaries_test['lemms'])"
      ],
      "execution_count": null,
      "outputs": []
    },
    {
      "cell_type": "code",
      "metadata": {
        "id": "GoJgQsr5PhEc",
        "colab_type": "code",
        "colab": {
          "base_uri": "https://localhost:8080/",
          "height": 564
        },
        "outputId": "19dce2fd-5c41-4292-989b-298fcae11534"
      },
      "source": [
        "df_salaries_test['salary_pred']=prediction_test\n",
        "df_salaries_test.head()"
      ],
      "execution_count": null,
      "outputs": [
        {
          "output_type": "execute_result",
          "data": {
            "text/html": [
              "<div>\n",
              "<style scoped>\n",
              "    .dataframe tbody tr th:only-of-type {\n",
              "        vertical-align: middle;\n",
              "    }\n",
              "\n",
              "    .dataframe tbody tr th {\n",
              "        vertical-align: top;\n",
              "    }\n",
              "\n",
              "    .dataframe thead th {\n",
              "        text-align: right;\n",
              "    }\n",
              "</style>\n",
              "<table border=\"1\" class=\"dataframe\">\n",
              "  <thead>\n",
              "    <tr style=\"text-align: right;\">\n",
              "      <th></th>\n",
              "      <th>id</th>\n",
              "      <th>name</th>\n",
              "      <th>name.lemm</th>\n",
              "      <th>area.name</th>\n",
              "      <th>city</th>\n",
              "      <th>company.id</th>\n",
              "      <th>company</th>\n",
              "      <th>company_link</th>\n",
              "      <th>publication_date</th>\n",
              "      <th>salary_from</th>\n",
              "      <th>salary_currency</th>\n",
              "      <th>employment</th>\n",
              "      <th>employment.name</th>\n",
              "      <th>schedule</th>\n",
              "      <th>schedule.name</th>\n",
              "      <th>experience</th>\n",
              "      <th>experience.name</th>\n",
              "      <th>key_skills</th>\n",
              "      <th>specializations</th>\n",
              "      <th>specializations.names</th>\n",
              "      <th>description</th>\n",
              "      <th>description.lemm</th>\n",
              "      <th>type</th>\n",
              "      <th>lemms</th>\n",
              "      <th>salary_pred</th>\n",
              "    </tr>\n",
              "    <tr>\n",
              "      <th>index</th>\n",
              "      <th></th>\n",
              "      <th></th>\n",
              "      <th></th>\n",
              "      <th></th>\n",
              "      <th></th>\n",
              "      <th></th>\n",
              "      <th></th>\n",
              "      <th></th>\n",
              "      <th></th>\n",
              "      <th></th>\n",
              "      <th></th>\n",
              "      <th></th>\n",
              "      <th></th>\n",
              "      <th></th>\n",
              "      <th></th>\n",
              "      <th></th>\n",
              "      <th></th>\n",
              "      <th></th>\n",
              "      <th></th>\n",
              "      <th></th>\n",
              "      <th></th>\n",
              "      <th></th>\n",
              "      <th></th>\n",
              "      <th></th>\n",
              "      <th></th>\n",
              "    </tr>\n",
              "  </thead>\n",
              "  <tbody>\n",
              "    <tr>\n",
              "      <th>150869</th>\n",
              "      <td>24030837</td>\n",
              "      <td>Бухгалтер на участок Банковские операции</td>\n",
              "      <td>бухгалтер участок банковский операция</td>\n",
              "      <td>Санкт-Петербург</td>\n",
              "      <td>unknown</td>\n",
              "      <td>1449838</td>\n",
              "      <td>Управляющая компания Технологии Тепличного Роста</td>\n",
              "      <td>https://hh.ru/employer/1449838</td>\n",
              "      <td>2018-01-15T13:54:19+0300</td>\n",
              "      <td>NaN</td>\n",
              "      <td>RUR</td>\n",
              "      <td>full</td>\n",
              "      <td>Полная занятость</td>\n",
              "      <td>fullDay</td>\n",
              "      <td>Полный день</td>\n",
              "      <td>between1And3</td>\n",
              "      <td>От 1 года до 3 лет</td>\n",
              "      <td>NaN</td>\n",
              "      <td>5.45 5.42 5.250</td>\n",
              "      <td>Банки, инвестиции, лизинг - Валютный контроль ...</td>\n",
              "      <td>В Управляющей компании \"Технологии Тепличного ...</td>\n",
              "      <td>управляющий компания технология тепличный рост...</td>\n",
              "      <td>test</td>\n",
              "      <td>бухгалтер участок банковский операция управляю...</td>\n",
              "      <td>37984.603388</td>\n",
              "    </tr>\n",
              "    <tr>\n",
              "      <th>150870</th>\n",
              "      <td>24012268</td>\n",
              "      <td>Помощник бухгалтера</td>\n",
              "      <td>помощник бухгалтер</td>\n",
              "      <td>Санкт-Петербург</td>\n",
              "      <td>Санкт-Петербург</td>\n",
              "      <td>1449838</td>\n",
              "      <td>Управляющая компания Технологии Тепличного Роста</td>\n",
              "      <td>https://hh.ru/employer/1449838</td>\n",
              "      <td>2018-01-09T16:22:00+0300</td>\n",
              "      <td>NaN</td>\n",
              "      <td>RUR</td>\n",
              "      <td>full</td>\n",
              "      <td>Полная занятость</td>\n",
              "      <td>flexible</td>\n",
              "      <td>Гибкий график</td>\n",
              "      <td>noExperience</td>\n",
              "      <td>Нет опыта</td>\n",
              "      <td>NaN</td>\n",
              "      <td>2.179 2.469 15.730</td>\n",
              "      <td>Бухгалтерия, управленческий учет, финансы пред...</td>\n",
              "      <td>В управляющей компании \"Технологии Тепличного ...</td>\n",
              "      <td>управляющий компания технология тепличный рост...</td>\n",
              "      <td>test</td>\n",
              "      <td>помощник бухгалтер управляющий компания технол...</td>\n",
              "      <td>24855.983145</td>\n",
              "    </tr>\n",
              "    <tr>\n",
              "      <th>150871</th>\n",
              "      <td>23707419</td>\n",
              "      <td>Заместитель главного бухгалтера</td>\n",
              "      <td>заместитель главный бухгалтер</td>\n",
              "      <td>Санкт-Петербург</td>\n",
              "      <td>Санкт-Петербург</td>\n",
              "      <td>1449838</td>\n",
              "      <td>Управляющая компания Технологии Тепличного Роста</td>\n",
              "      <td>https://hh.ru/employer/1449838</td>\n",
              "      <td>2017-12-13T16:45:16+0300</td>\n",
              "      <td>NaN</td>\n",
              "      <td>RUR</td>\n",
              "      <td>full</td>\n",
              "      <td>Полная занятость</td>\n",
              "      <td>fullDay</td>\n",
              "      <td>Полный день</td>\n",
              "      <td>between3And6</td>\n",
              "      <td>От 3 до 6 лет</td>\n",
              "      <td>NaN</td>\n",
              "      <td>2.43 2.261 2.249</td>\n",
              "      <td>Бухгалтерия, управленческий учет, финансы пред...</td>\n",
              "      <td>В Управляющей компании \"Технологии Тепличного ...</td>\n",
              "      <td>управляющий компания технология тепличный рост...</td>\n",
              "      <td>test</td>\n",
              "      <td>заместитель главный бухгалтер управляющий комп...</td>\n",
              "      <td>58691.055573</td>\n",
              "    </tr>\n",
              "    <tr>\n",
              "      <th>150872</th>\n",
              "      <td>24306509</td>\n",
              "      <td>Торговый представитель по продажам КГС (компре...</td>\n",
              "      <td>торговый представитель продажа КГС компрессор ...</td>\n",
              "      <td>Санкт-Петербург</td>\n",
              "      <td>unknown</td>\n",
              "      <td>964064</td>\n",
              "      <td>Управляющая компания Техстройконтракт</td>\n",
              "      <td>https://hh.ru/employer/964064</td>\n",
              "      <td>2018-02-27T10:50:04+0300</td>\n",
              "      <td>NaN</td>\n",
              "      <td>RUR</td>\n",
              "      <td>full</td>\n",
              "      <td>Полная занятость</td>\n",
              "      <td>fullDay</td>\n",
              "      <td>Полный день</td>\n",
              "      <td>between3And6</td>\n",
              "      <td>От 3 до 6 лет</td>\n",
              "      <td>Активная жизненная позиция | Коммуникабельност...</td>\n",
              "      <td>7.14 7.222 17.15 17.242 17.306</td>\n",
              "      <td>Автомобильный бизнес - Автозапчасти | Автомоби...</td>\n",
              "      <td>Обязанности:  Продажа компрессоров, генераторо...</td>\n",
              "      <td>обязанность продажа компрессор генератор сварк...</td>\n",
              "      <td>test</td>\n",
              "      <td>торговый представитель продажа КГС компрессор ...</td>\n",
              "      <td>53518.627741</td>\n",
              "    </tr>\n",
              "    <tr>\n",
              "      <th>150873</th>\n",
              "      <td>24043072</td>\n",
              "      <td>Заместитель директора по сервису</td>\n",
              "      <td>заместитель директор сервис</td>\n",
              "      <td>Санкт-Петербург</td>\n",
              "      <td>unknown</td>\n",
              "      <td>964064</td>\n",
              "      <td>Управляющая компания Техстройконтракт</td>\n",
              "      <td>https://hh.ru/employer/964064</td>\n",
              "      <td>2018-02-13T09:34:20+0300</td>\n",
              "      <td>NaN</td>\n",
              "      <td>RUR</td>\n",
              "      <td>full</td>\n",
              "      <td>Полная занятость</td>\n",
              "      <td>fullDay</td>\n",
              "      <td>Полный день</td>\n",
              "      <td>between3And6</td>\n",
              "      <td>От 3 до 6 лет</td>\n",
              "      <td>NaN</td>\n",
              "      <td>7.267 7.14 7.222 17.15 26.407</td>\n",
              "      <td>Автомобильный бизнес - Сервисное обслуживание ...</td>\n",
              "      <td>Обязанности:  Продажа услуг по сервисному обсл...</td>\n",
              "      <td>обязанность продажа услуга сервисный обслужива...</td>\n",
              "      <td>test</td>\n",
              "      <td>заместитель директор сервис обязанность продаж...</td>\n",
              "      <td>48716.681329</td>\n",
              "    </tr>\n",
              "  </tbody>\n",
              "</table>\n",
              "</div>"
            ],
            "text/plain": [
              "              id  ...   salary_pred\n",
              "index             ...              \n",
              "150869  24030837  ...  37984.603388\n",
              "150870  24012268  ...  24855.983145\n",
              "150871  23707419  ...  58691.055573\n",
              "150872  24306509  ...  53518.627741\n",
              "150873  24043072  ...  48716.681329\n",
              "\n",
              "[5 rows x 25 columns]"
            ]
          },
          "metadata": {
            "tags": []
          },
          "execution_count": 145
        }
      ]
    },
    {
      "cell_type": "code",
      "metadata": {
        "id": "u05mOSiIPw09",
        "colab_type": "code",
        "colab": {
          "base_uri": "https://localhost:8080/",
          "height": 225
        },
        "outputId": "01ecb51f-f3c8-4d84-92cb-4d5633c3a873"
      },
      "source": [
        "df_out=df_salaries_test[['id','salary_pred']]\n",
        "df_out.head()"
      ],
      "execution_count": null,
      "outputs": [
        {
          "output_type": "execute_result",
          "data": {
            "text/html": [
              "<div>\n",
              "<style scoped>\n",
              "    .dataframe tbody tr th:only-of-type {\n",
              "        vertical-align: middle;\n",
              "    }\n",
              "\n",
              "    .dataframe tbody tr th {\n",
              "        vertical-align: top;\n",
              "    }\n",
              "\n",
              "    .dataframe thead th {\n",
              "        text-align: right;\n",
              "    }\n",
              "</style>\n",
              "<table border=\"1\" class=\"dataframe\">\n",
              "  <thead>\n",
              "    <tr style=\"text-align: right;\">\n",
              "      <th></th>\n",
              "      <th>id</th>\n",
              "      <th>salary_pred</th>\n",
              "    </tr>\n",
              "    <tr>\n",
              "      <th>index</th>\n",
              "      <th></th>\n",
              "      <th></th>\n",
              "    </tr>\n",
              "  </thead>\n",
              "  <tbody>\n",
              "    <tr>\n",
              "      <th>150869</th>\n",
              "      <td>24030837</td>\n",
              "      <td>37984.603388</td>\n",
              "    </tr>\n",
              "    <tr>\n",
              "      <th>150870</th>\n",
              "      <td>24012268</td>\n",
              "      <td>24855.983145</td>\n",
              "    </tr>\n",
              "    <tr>\n",
              "      <th>150871</th>\n",
              "      <td>23707419</td>\n",
              "      <td>58691.055573</td>\n",
              "    </tr>\n",
              "    <tr>\n",
              "      <th>150872</th>\n",
              "      <td>24306509</td>\n",
              "      <td>53518.627741</td>\n",
              "    </tr>\n",
              "    <tr>\n",
              "      <th>150873</th>\n",
              "      <td>24043072</td>\n",
              "      <td>48716.681329</td>\n",
              "    </tr>\n",
              "  </tbody>\n",
              "</table>\n",
              "</div>"
            ],
            "text/plain": [
              "              id   salary_pred\n",
              "index                         \n",
              "150869  24030837  37984.603388\n",
              "150870  24012268  24855.983145\n",
              "150871  23707419  58691.055573\n",
              "150872  24306509  53518.627741\n",
              "150873  24043072  48716.681329"
            ]
          },
          "metadata": {
            "tags": []
          },
          "execution_count": 147
        }
      ]
    },
    {
      "cell_type": "code",
      "metadata": {
        "id": "LyOB0KGJP6Qp",
        "colab_type": "code",
        "colab": {}
      },
      "source": [
        ""
      ],
      "execution_count": null,
      "outputs": []
    },
    {
      "cell_type": "code",
      "metadata": {
        "id": "qbaLe0hsP67E",
        "colab_type": "code",
        "colab": {}
      },
      "source": [
        ""
      ],
      "execution_count": null,
      "outputs": []
    },
    {
      "cell_type": "code",
      "metadata": {
        "id": "4Zv2keMDAz9P",
        "colab_type": "code",
        "colab": {}
      },
      "source": [
        "#сохраним модель для испльзования на сервере\n",
        "filename = 'model_trud07_lgbm.pickle'\n",
        "pickle.dump(sklearn_pipeline, open(filename, 'wb'))\n",
        "\n",
        "# This is example of code how to load saved model\n",
        "# load the model from disk\n",
        "# loaded_model = pickle.load(open(filename, 'rb'))\n",
        "# prediction = loaded_model.predict(X_test)\n",
        "# print(prediction)"
      ],
      "execution_count": null,
      "outputs": []
    },
    {
      "cell_type": "code",
      "metadata": {
        "id": "dyQ_TNkMA0fU",
        "colab_type": "code",
        "colab": {}
      },
      "source": [
        ""
      ],
      "execution_count": null,
      "outputs": []
    },
    {
      "cell_type": "code",
      "metadata": {
        "id": "3UgsqgiD6bOA",
        "colab_type": "code",
        "colab": {}
      },
      "source": [
        ""
      ],
      "execution_count": null,
      "outputs": []
    },
    {
      "cell_type": "code",
      "metadata": {
        "id": "0g8HIW15eQma",
        "colab_type": "code",
        "colab": {
          "base_uri": "https://localhost:8080/",
          "height": 34
        },
        "outputId": "7167dab7-15e6-4ac9-d01e-b5a93fc3e82e"
      },
      "source": [
        "!ls"
      ],
      "execution_count": null,
      "outputs": [
        {
          "output_type": "stream",
          "text": [
            "gdrive\tmodel_trud06_lgbm.pickle  sample_data\n"
          ],
          "name": "stdout"
        }
      ]
    },
    {
      "cell_type": "code",
      "metadata": {
        "id": "qvkr0ofYUAOj",
        "colab_type": "code",
        "colab": {}
      },
      "source": [
        "df_out.to_csv('salary_predictions01.csv', index=False,sep=';')\n",
        "#df_predictions.to_csv('data/sample_predictions.csv', index_label='fire_id')"
      ],
      "execution_count": null,
      "outputs": []
    },
    {
      "cell_type": "code",
      "metadata": {
        "id": "JVLQKiCTUGnn",
        "colab_type": "code",
        "colab": {
          "base_uri": "https://localhost:8080/",
          "height": 17
        },
        "outputId": "6634d2ed-4eee-45bb-b5ca-1a516f9f95d3"
      },
      "source": [
        "from google.colab import files\n",
        "files.download('salary_predictions01.csv')"
      ],
      "execution_count": null,
      "outputs": [
        {
          "output_type": "display_data",
          "data": {
            "application/javascript": [
              "\n",
              "    async function download(id, filename, size) {\n",
              "      if (!google.colab.kernel.accessAllowed) {\n",
              "        return;\n",
              "      }\n",
              "      const div = document.createElement('div');\n",
              "      const label = document.createElement('label');\n",
              "      label.textContent = `Downloading \"${filename}\": `;\n",
              "      div.appendChild(label);\n",
              "      const progress = document.createElement('progress');\n",
              "      progress.max = size;\n",
              "      div.appendChild(progress);\n",
              "      document.body.appendChild(div);\n",
              "\n",
              "      const buffers = [];\n",
              "      let downloaded = 0;\n",
              "\n",
              "      const channel = await google.colab.kernel.comms.open(id);\n",
              "      // Send a message to notify the kernel that we're ready.\n",
              "      channel.send({})\n",
              "\n",
              "      for await (const message of channel.messages) {\n",
              "        // Send a message to notify the kernel that we're ready.\n",
              "        channel.send({})\n",
              "        if (message.buffers) {\n",
              "          for (const buffer of message.buffers) {\n",
              "            buffers.push(buffer);\n",
              "            downloaded += buffer.byteLength;\n",
              "            progress.value = downloaded;\n",
              "          }\n",
              "        }\n",
              "      }\n",
              "      const blob = new Blob(buffers, {type: 'application/binary'});\n",
              "      const a = document.createElement('a');\n",
              "      a.href = window.URL.createObjectURL(blob);\n",
              "      a.download = filename;\n",
              "      div.appendChild(a);\n",
              "      a.click();\n",
              "      div.remove();\n",
              "    }\n",
              "  "
            ],
            "text/plain": [
              "<IPython.core.display.Javascript object>"
            ]
          },
          "metadata": {
            "tags": []
          }
        },
        {
          "output_type": "display_data",
          "data": {
            "application/javascript": [
              "download(\"download_5086b168-ea7c-467a-b8ce-55c008831cc2\", \"salary_predictions01.csv\", 1366202)"
            ],
            "text/plain": [
              "<IPython.core.display.Javascript object>"
            ]
          },
          "metadata": {
            "tags": []
          }
        }
      ]
    },
    {
      "cell_type": "code",
      "metadata": {
        "id": "toOYYR75b_-p",
        "colab_type": "code",
        "colab": {
          "base_uri": "https://localhost:8080/",
          "height": 17
        },
        "outputId": "28d501e2-834e-4e21-8bad-a7d43dc0a110"
      },
      "source": [
        "from google.colab import files\n",
        "files.download('model_trud07_lgbm.pickle')"
      ],
      "execution_count": null,
      "outputs": [
        {
          "output_type": "display_data",
          "data": {
            "application/javascript": [
              "\n",
              "    async function download(id, filename, size) {\n",
              "      if (!google.colab.kernel.accessAllowed) {\n",
              "        return;\n",
              "      }\n",
              "      const div = document.createElement('div');\n",
              "      const label = document.createElement('label');\n",
              "      label.textContent = `Downloading \"${filename}\": `;\n",
              "      div.appendChild(label);\n",
              "      const progress = document.createElement('progress');\n",
              "      progress.max = size;\n",
              "      div.appendChild(progress);\n",
              "      document.body.appendChild(div);\n",
              "\n",
              "      const buffers = [];\n",
              "      let downloaded = 0;\n",
              "\n",
              "      const channel = await google.colab.kernel.comms.open(id);\n",
              "      // Send a message to notify the kernel that we're ready.\n",
              "      channel.send({})\n",
              "\n",
              "      for await (const message of channel.messages) {\n",
              "        // Send a message to notify the kernel that we're ready.\n",
              "        channel.send({})\n",
              "        if (message.buffers) {\n",
              "          for (const buffer of message.buffers) {\n",
              "            buffers.push(buffer);\n",
              "            downloaded += buffer.byteLength;\n",
              "            progress.value = downloaded;\n",
              "          }\n",
              "        }\n",
              "      }\n",
              "      const blob = new Blob(buffers, {type: 'application/binary'});\n",
              "      const a = document.createElement('a');\n",
              "      a.href = window.URL.createObjectURL(blob);\n",
              "      a.download = filename;\n",
              "      div.appendChild(a);\n",
              "      a.click();\n",
              "      div.remove();\n",
              "    }\n",
              "  "
            ],
            "text/plain": [
              "<IPython.core.display.Javascript object>"
            ]
          },
          "metadata": {
            "tags": []
          }
        },
        {
          "output_type": "display_data",
          "data": {
            "application/javascript": [
              "download(\"download_5513a38e-ce08-45bd-ba61-c4de933ace61\", \"model_trud07_lgbm.pickle\", 6651943)"
            ],
            "text/plain": [
              "<IPython.core.display.Javascript object>"
            ]
          },
          "metadata": {
            "tags": []
          }
        }
      ]
    },
    {
      "cell_type": "code",
      "metadata": {
        "id": "XWx767Oax8vh",
        "colab_type": "code",
        "colab": {}
      },
      "source": [
        ""
      ],
      "execution_count": null,
      "outputs": []
    },
    {
      "cell_type": "code",
      "metadata": {
        "id": "ImnJ401Yx9fm",
        "colab_type": "code",
        "colab": {}
      },
      "source": [
        ""
      ],
      "execution_count": null,
      "outputs": []
    }
  ]
}